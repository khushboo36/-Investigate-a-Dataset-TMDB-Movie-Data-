{
 "cells": [
  {
   "cell_type": "markdown",
   "metadata": {},
   "source": [
    "<h1><center><u>Project: Investigate a Dataset : TMDB Movie Data</u></center></h1>\n",
    "\n",
    "<h2><u>Table of Contents</u></h2>\n",
    " <ul>\n",
    "    <li>Introduction</li>\n",
    "    <li>Data Wrangling</li>\n",
    "    <li>Exploratory Data Analysis</li>\n",
    "    <li>Conclusions</li>\n",
    " </ul>\n",
    "   "
   ]
  },
  {
   "cell_type": "markdown",
   "metadata": {},
   "source": [
    " <h2><u>Introduction</u></h2>\n",
    " \n",
    "\n",
    "  -  In this project, I am investigating a TMDB movies dataset. \n",
    "  -  The dataset contains information of 10865 movies.\n",
    "  -  The source of this data is www.kaggle.com. \n",
    "  -  The dataset contains information like details of budget, runtime of movies, revenue, vote_Avg, popularity, release_year etc of the movies.\n",
    "  -  The dataset contains information on movies from year 1960 to 2015.\n",
    "  \n",
    "  \n",
    "  \n",
    "- <h4> <u> Importing all the required libraries....</u></h4>\n"
   ]
  },
  {
   "cell_type": "code",
   "execution_count": 1,
   "metadata": {},
   "outputs": [],
   "source": [
    "import numpy as np\n",
    "from datetime import datetime # operations to parse dates\n",
    "import csv                    # read and write csv files\n",
    "import pandas as pd\n",
    "from matplotlib import pyplot as plt\n",
    "import seaborn as sns\n",
    "tmdb = pd.read_csv('tmdb-movies.csv') #This function is used to read the csv file.\n",
    "#This variable will store the database of tmdb movies."
   ]
  },
  {
   "cell_type": "markdown",
   "metadata": {},
   "source": [
    "- <b>Displaying first 5 lines of tmdb-movies dataset:</b>"
   ]
  },
  {
   "cell_type": "code",
   "execution_count": 2,
   "metadata": {},
   "outputs": [
    {
     "data": {
      "text/html": [
       "<div>\n",
       "<style scoped>\n",
       "    .dataframe tbody tr th:only-of-type {\n",
       "        vertical-align: middle;\n",
       "    }\n",
       "\n",
       "    .dataframe tbody tr th {\n",
       "        vertical-align: top;\n",
       "    }\n",
       "\n",
       "    .dataframe thead th {\n",
       "        text-align: right;\n",
       "    }\n",
       "</style>\n",
       "<table border=\"1\" class=\"dataframe\">\n",
       "  <thead>\n",
       "    <tr style=\"text-align: right;\">\n",
       "      <th></th>\n",
       "      <th>id</th>\n",
       "      <th>imdb_id</th>\n",
       "      <th>popularity</th>\n",
       "      <th>budget</th>\n",
       "      <th>revenue</th>\n",
       "      <th>original_title</th>\n",
       "      <th>cast</th>\n",
       "      <th>homepage</th>\n",
       "      <th>director</th>\n",
       "      <th>tagline</th>\n",
       "      <th>...</th>\n",
       "      <th>overview</th>\n",
       "      <th>runtime</th>\n",
       "      <th>genres</th>\n",
       "      <th>production_companies</th>\n",
       "      <th>release_date</th>\n",
       "      <th>vote_count</th>\n",
       "      <th>vote_average</th>\n",
       "      <th>release_year</th>\n",
       "      <th>budget_adj</th>\n",
       "      <th>revenue_adj</th>\n",
       "    </tr>\n",
       "  </thead>\n",
       "  <tbody>\n",
       "    <tr>\n",
       "      <th>0</th>\n",
       "      <td>135397</td>\n",
       "      <td>tt0369610</td>\n",
       "      <td>32.985763</td>\n",
       "      <td>150000000</td>\n",
       "      <td>1513528810</td>\n",
       "      <td>Jurassic World</td>\n",
       "      <td>Chris Pratt|Bryce Dallas Howard|Irrfan Khan|Vi...</td>\n",
       "      <td>http://www.jurassicworld.com/</td>\n",
       "      <td>Colin Trevorrow</td>\n",
       "      <td>The park is open.</td>\n",
       "      <td>...</td>\n",
       "      <td>Twenty-two years after the events of Jurassic ...</td>\n",
       "      <td>124</td>\n",
       "      <td>Action|Adventure|Science Fiction|Thriller</td>\n",
       "      <td>Universal Studios|Amblin Entertainment|Legenda...</td>\n",
       "      <td>6/9/15</td>\n",
       "      <td>5562</td>\n",
       "      <td>6.5</td>\n",
       "      <td>2015</td>\n",
       "      <td>1.379999e+08</td>\n",
       "      <td>1.392446e+09</td>\n",
       "    </tr>\n",
       "    <tr>\n",
       "      <th>1</th>\n",
       "      <td>76341</td>\n",
       "      <td>tt1392190</td>\n",
       "      <td>28.419936</td>\n",
       "      <td>150000000</td>\n",
       "      <td>378436354</td>\n",
       "      <td>Mad Max: Fury Road</td>\n",
       "      <td>Tom Hardy|Charlize Theron|Hugh Keays-Byrne|Nic...</td>\n",
       "      <td>http://www.madmaxmovie.com/</td>\n",
       "      <td>George Miller</td>\n",
       "      <td>What a Lovely Day.</td>\n",
       "      <td>...</td>\n",
       "      <td>An apocalyptic story set in the furthest reach...</td>\n",
       "      <td>120</td>\n",
       "      <td>Action|Adventure|Science Fiction|Thriller</td>\n",
       "      <td>Village Roadshow Pictures|Kennedy Miller Produ...</td>\n",
       "      <td>5/13/15</td>\n",
       "      <td>6185</td>\n",
       "      <td>7.1</td>\n",
       "      <td>2015</td>\n",
       "      <td>1.379999e+08</td>\n",
       "      <td>3.481613e+08</td>\n",
       "    </tr>\n",
       "    <tr>\n",
       "      <th>2</th>\n",
       "      <td>262500</td>\n",
       "      <td>tt2908446</td>\n",
       "      <td>13.112507</td>\n",
       "      <td>110000000</td>\n",
       "      <td>295238201</td>\n",
       "      <td>Insurgent</td>\n",
       "      <td>Shailene Woodley|Theo James|Kate Winslet|Ansel...</td>\n",
       "      <td>http://www.thedivergentseries.movie/#insurgent</td>\n",
       "      <td>Robert Schwentke</td>\n",
       "      <td>One Choice Can Destroy You</td>\n",
       "      <td>...</td>\n",
       "      <td>Beatrice Prior must confront her inner demons ...</td>\n",
       "      <td>119</td>\n",
       "      <td>Adventure|Science Fiction|Thriller</td>\n",
       "      <td>Summit Entertainment|Mandeville Films|Red Wago...</td>\n",
       "      <td>3/18/15</td>\n",
       "      <td>2480</td>\n",
       "      <td>6.3</td>\n",
       "      <td>2015</td>\n",
       "      <td>1.012000e+08</td>\n",
       "      <td>2.716190e+08</td>\n",
       "    </tr>\n",
       "    <tr>\n",
       "      <th>3</th>\n",
       "      <td>140607</td>\n",
       "      <td>tt2488496</td>\n",
       "      <td>11.173104</td>\n",
       "      <td>200000000</td>\n",
       "      <td>2068178225</td>\n",
       "      <td>Star Wars: The Force Awakens</td>\n",
       "      <td>Harrison Ford|Mark Hamill|Carrie Fisher|Adam D...</td>\n",
       "      <td>http://www.starwars.com/films/star-wars-episod...</td>\n",
       "      <td>J.J. Abrams</td>\n",
       "      <td>Every generation has a story.</td>\n",
       "      <td>...</td>\n",
       "      <td>Thirty years after defeating the Galactic Empi...</td>\n",
       "      <td>136</td>\n",
       "      <td>Action|Adventure|Science Fiction|Fantasy</td>\n",
       "      <td>Lucasfilm|Truenorth Productions|Bad Robot</td>\n",
       "      <td>12/15/15</td>\n",
       "      <td>5292</td>\n",
       "      <td>7.5</td>\n",
       "      <td>2015</td>\n",
       "      <td>1.839999e+08</td>\n",
       "      <td>1.902723e+09</td>\n",
       "    </tr>\n",
       "    <tr>\n",
       "      <th>4</th>\n",
       "      <td>168259</td>\n",
       "      <td>tt2820852</td>\n",
       "      <td>9.335014</td>\n",
       "      <td>190000000</td>\n",
       "      <td>1506249360</td>\n",
       "      <td>Furious 7</td>\n",
       "      <td>Vin Diesel|Paul Walker|Jason Statham|Michelle ...</td>\n",
       "      <td>http://www.furious7.com/</td>\n",
       "      <td>James Wan</td>\n",
       "      <td>Vengeance Hits Home</td>\n",
       "      <td>...</td>\n",
       "      <td>Deckard Shaw seeks revenge against Dominic Tor...</td>\n",
       "      <td>137</td>\n",
       "      <td>Action|Crime|Thriller</td>\n",
       "      <td>Universal Pictures|Original Film|Media Rights ...</td>\n",
       "      <td>4/1/15</td>\n",
       "      <td>2947</td>\n",
       "      <td>7.3</td>\n",
       "      <td>2015</td>\n",
       "      <td>1.747999e+08</td>\n",
       "      <td>1.385749e+09</td>\n",
       "    </tr>\n",
       "  </tbody>\n",
       "</table>\n",
       "<p>5 rows × 21 columns</p>\n",
       "</div>"
      ],
      "text/plain": [
       "       id    imdb_id  popularity     budget     revenue  \\\n",
       "0  135397  tt0369610   32.985763  150000000  1513528810   \n",
       "1   76341  tt1392190   28.419936  150000000   378436354   \n",
       "2  262500  tt2908446   13.112507  110000000   295238201   \n",
       "3  140607  tt2488496   11.173104  200000000  2068178225   \n",
       "4  168259  tt2820852    9.335014  190000000  1506249360   \n",
       "\n",
       "                 original_title  \\\n",
       "0                Jurassic World   \n",
       "1            Mad Max: Fury Road   \n",
       "2                     Insurgent   \n",
       "3  Star Wars: The Force Awakens   \n",
       "4                     Furious 7   \n",
       "\n",
       "                                                cast  \\\n",
       "0  Chris Pratt|Bryce Dallas Howard|Irrfan Khan|Vi...   \n",
       "1  Tom Hardy|Charlize Theron|Hugh Keays-Byrne|Nic...   \n",
       "2  Shailene Woodley|Theo James|Kate Winslet|Ansel...   \n",
       "3  Harrison Ford|Mark Hamill|Carrie Fisher|Adam D...   \n",
       "4  Vin Diesel|Paul Walker|Jason Statham|Michelle ...   \n",
       "\n",
       "                                            homepage          director  \\\n",
       "0                      http://www.jurassicworld.com/   Colin Trevorrow   \n",
       "1                        http://www.madmaxmovie.com/     George Miller   \n",
       "2     http://www.thedivergentseries.movie/#insurgent  Robert Schwentke   \n",
       "3  http://www.starwars.com/films/star-wars-episod...       J.J. Abrams   \n",
       "4                           http://www.furious7.com/         James Wan   \n",
       "\n",
       "                         tagline      ...       \\\n",
       "0              The park is open.      ...        \n",
       "1             What a Lovely Day.      ...        \n",
       "2     One Choice Can Destroy You      ...        \n",
       "3  Every generation has a story.      ...        \n",
       "4            Vengeance Hits Home      ...        \n",
       "\n",
       "                                            overview runtime  \\\n",
       "0  Twenty-two years after the events of Jurassic ...     124   \n",
       "1  An apocalyptic story set in the furthest reach...     120   \n",
       "2  Beatrice Prior must confront her inner demons ...     119   \n",
       "3  Thirty years after defeating the Galactic Empi...     136   \n",
       "4  Deckard Shaw seeks revenge against Dominic Tor...     137   \n",
       "\n",
       "                                      genres  \\\n",
       "0  Action|Adventure|Science Fiction|Thriller   \n",
       "1  Action|Adventure|Science Fiction|Thriller   \n",
       "2         Adventure|Science Fiction|Thriller   \n",
       "3   Action|Adventure|Science Fiction|Fantasy   \n",
       "4                      Action|Crime|Thriller   \n",
       "\n",
       "                                production_companies release_date vote_count  \\\n",
       "0  Universal Studios|Amblin Entertainment|Legenda...       6/9/15       5562   \n",
       "1  Village Roadshow Pictures|Kennedy Miller Produ...      5/13/15       6185   \n",
       "2  Summit Entertainment|Mandeville Films|Red Wago...      3/18/15       2480   \n",
       "3          Lucasfilm|Truenorth Productions|Bad Robot     12/15/15       5292   \n",
       "4  Universal Pictures|Original Film|Media Rights ...       4/1/15       2947   \n",
       "\n",
       "   vote_average  release_year    budget_adj   revenue_adj  \n",
       "0           6.5          2015  1.379999e+08  1.392446e+09  \n",
       "1           7.1          2015  1.379999e+08  3.481613e+08  \n",
       "2           6.3          2015  1.012000e+08  2.716190e+08  \n",
       "3           7.5          2015  1.839999e+08  1.902723e+09  \n",
       "4           7.3          2015  1.747999e+08  1.385749e+09  \n",
       "\n",
       "[5 rows x 21 columns]"
      ]
     },
     "execution_count": 2,
     "metadata": {},
     "output_type": "execute_result"
    }
   ],
   "source": [
    "Intro_tmdb = pd.read_csv('tmdb-movies.csv') #This function is used to read the csv file.\n",
    "Intro_tmdb.head() #This function is use to read the first 5 lines of the dataset.\n"
   ]
  },
  {
   "cell_type": "markdown",
   "metadata": {},
   "source": [
    " - <h3>The Analysis and Posed Questions are:</h3>\n",
    "\n",
    "Q1. Let's see some overall analysis of different columns.\n",
    "\n",
    "Q2. Computing Similiar Analytics: \n",
    "What are the movies with max and min\n",
    "- Popularity\n",
    "- Budget\n",
    "- Revenue\n",
    "- Profit\n",
    "\n",
    "\n",
    "Q3. What are the top 10 movies by rating?\n",
    "\n",
    "Q4. What is the Count of movies based on rating category?\n",
    "\n",
    "Q5. What attributes do the most profitable movie have?</b>\n",
    "     -   Average duration of movies.\n",
    "     -   Average Budget.\n",
    "     -   Average revenue.\n",
    "     -   Average profits.\n",
    "     -   Which director directed most films?\n",
    "     -   Whcih cast has appeared the most?\n",
    "     -   Which genre were more successful?\n",
    "     -   Which month released highest number of movies in all of the years? And which month made the most profit?\n",
    "\n",
    "Q6. In which month we had the most movies making profits?\n",
    "\n",
    "Q7. Genre wise, no. of movies released per year...\n",
    "\n",
    "Q8. What is relationship between various parameters..\n",
    "<h5>*Before answering these questions data needs to be cleaned.*</h5>\n",
    "\n"
   ]
  },
  {
   "cell_type": "markdown",
   "metadata": {},
   "source": [
    "<h2><u>Data Wrangling</u></h2>\n",
    "\n",
    "\n",
    "<h5> 1) What all needs to be cleaned or corrected?</h5>\n",
    "\n",
    "We will check whether all the values of the variables are valid or not i.e. non-null or non 0. We will also see in what way  this data can be trimmed so we can have only those columns which we need and remove unwanted columns. This will also make our dataset clean and easy for us to calculate what we want.\n",
    " - In this database of movies there are lots of movies where the budget_adj or revenue_adj have a value of <font color='red'>'0'</font> which means that the values of those variables has not been recorded. Calculating the profits of these movies would lead to inappropriate results. So we need to delete these rows.\n",
    " - Also this dataset has some duplicate rows. We have to clean that too.\n",
    " - For average runtime of the movies we have a replace <font color='red'>'0'</font> with <font              color='red'>'NaN</font>'.\n",
    " - We have to check if all columns are in the desired data type, if not then we have to change it.\n",
    " - Unnecessory columns needs to be removed such as *<font color='red'>imdb_id, budget, revenue, homepage, keywords,                        overview, production_companies, tagline.</font>*This needs to be done because either these columns contain a large no. of null values or doesn't seem to be promising enough to be fit for some analysis.\n",
    "\n",
    " - The outliers were as such not found. ( Those with value 0 were removed as mentioned in first point)."
   ]
  },
  {
   "cell_type": "markdown",
   "metadata": {},
   "source": [
    "##### 2) Removing Unwanted Columns From Dataset"
   ]
  },
  {
   "cell_type": "code",
   "execution_count": 3,
   "metadata": {},
   "outputs": [
    {
     "data": {
      "text/html": [
       "<div>\n",
       "<style scoped>\n",
       "    .dataframe tbody tr th:only-of-type {\n",
       "        vertical-align: middle;\n",
       "    }\n",
       "\n",
       "    .dataframe tbody tr th {\n",
       "        vertical-align: top;\n",
       "    }\n",
       "\n",
       "    .dataframe thead th {\n",
       "        text-align: right;\n",
       "    }\n",
       "</style>\n",
       "<table border=\"1\" class=\"dataframe\">\n",
       "  <thead>\n",
       "    <tr style=\"text-align: right;\">\n",
       "      <th></th>\n",
       "      <th>id</th>\n",
       "      <th>popularity</th>\n",
       "      <th>original_title</th>\n",
       "      <th>cast</th>\n",
       "      <th>director</th>\n",
       "      <th>runtime</th>\n",
       "      <th>genres</th>\n",
       "      <th>release_date</th>\n",
       "      <th>vote_count</th>\n",
       "      <th>vote_average</th>\n",
       "      <th>release_year</th>\n",
       "      <th>budget_adj</th>\n",
       "      <th>revenue_adj</th>\n",
       "    </tr>\n",
       "  </thead>\n",
       "  <tbody>\n",
       "    <tr>\n",
       "      <th>0</th>\n",
       "      <td>135397</td>\n",
       "      <td>32.985763</td>\n",
       "      <td>Jurassic World</td>\n",
       "      <td>Chris Pratt|Bryce Dallas Howard|Irrfan Khan|Vi...</td>\n",
       "      <td>Colin Trevorrow</td>\n",
       "      <td>124</td>\n",
       "      <td>Action|Adventure|Science Fiction|Thriller</td>\n",
       "      <td>6/9/15</td>\n",
       "      <td>5562</td>\n",
       "      <td>6.5</td>\n",
       "      <td>2015</td>\n",
       "      <td>1.379999e+08</td>\n",
       "      <td>1.392446e+09</td>\n",
       "    </tr>\n",
       "    <tr>\n",
       "      <th>1</th>\n",
       "      <td>76341</td>\n",
       "      <td>28.419936</td>\n",
       "      <td>Mad Max: Fury Road</td>\n",
       "      <td>Tom Hardy|Charlize Theron|Hugh Keays-Byrne|Nic...</td>\n",
       "      <td>George Miller</td>\n",
       "      <td>120</td>\n",
       "      <td>Action|Adventure|Science Fiction|Thriller</td>\n",
       "      <td>5/13/15</td>\n",
       "      <td>6185</td>\n",
       "      <td>7.1</td>\n",
       "      <td>2015</td>\n",
       "      <td>1.379999e+08</td>\n",
       "      <td>3.481613e+08</td>\n",
       "    </tr>\n",
       "    <tr>\n",
       "      <th>2</th>\n",
       "      <td>262500</td>\n",
       "      <td>13.112507</td>\n",
       "      <td>Insurgent</td>\n",
       "      <td>Shailene Woodley|Theo James|Kate Winslet|Ansel...</td>\n",
       "      <td>Robert Schwentke</td>\n",
       "      <td>119</td>\n",
       "      <td>Adventure|Science Fiction|Thriller</td>\n",
       "      <td>3/18/15</td>\n",
       "      <td>2480</td>\n",
       "      <td>6.3</td>\n",
       "      <td>2015</td>\n",
       "      <td>1.012000e+08</td>\n",
       "      <td>2.716190e+08</td>\n",
       "    </tr>\n",
       "  </tbody>\n",
       "</table>\n",
       "</div>"
      ],
      "text/plain": [
       "       id  popularity      original_title  \\\n",
       "0  135397   32.985763      Jurassic World   \n",
       "1   76341   28.419936  Mad Max: Fury Road   \n",
       "2  262500   13.112507           Insurgent   \n",
       "\n",
       "                                                cast          director  \\\n",
       "0  Chris Pratt|Bryce Dallas Howard|Irrfan Khan|Vi...   Colin Trevorrow   \n",
       "1  Tom Hardy|Charlize Theron|Hugh Keays-Byrne|Nic...     George Miller   \n",
       "2  Shailene Woodley|Theo James|Kate Winslet|Ansel...  Robert Schwentke   \n",
       "\n",
       "   runtime                                     genres release_date  \\\n",
       "0      124  Action|Adventure|Science Fiction|Thriller       6/9/15   \n",
       "1      120  Action|Adventure|Science Fiction|Thriller      5/13/15   \n",
       "2      119         Adventure|Science Fiction|Thriller      3/18/15   \n",
       "\n",
       "   vote_count  vote_average  release_year    budget_adj   revenue_adj  \n",
       "0        5562           6.5          2015  1.379999e+08  1.392446e+09  \n",
       "1        6185           7.1          2015  1.379999e+08  3.481613e+08  \n",
       "2        2480           6.3          2015  1.012000e+08  2.716190e+08  "
      ]
     },
     "execution_count": 3,
     "metadata": {},
     "output_type": "execute_result"
    }
   ],
   "source": [
    "del_col = [ 'imdb_id', 'budget', 'revenue', 'homepage', 'keywords', 'overview', 'production_companies', 'tagline']\n",
    "#deleting the columns from the database\n",
    "tmdb = tmdb.drop(del_col, 1)\n",
    "#now take a look at this new dataset\n",
    "tmdb.head(3)"
   ]
  },
  {
   "cell_type": "markdown",
   "metadata": {},
   "source": [
    "##### 3) Replacing 0 valued cells with NaN:\n",
    "\n",
    "Lets see if we have any movie with a runtime, budget_adj, revenue_adj value of 0. If we have any, we will replace with NaN. This is because these values may not have been recorded when data was collected so we will ignore them in analysis and if required we may remove them.\n"
   ]
  },
  {
   "cell_type": "code",
   "execution_count": 4,
   "metadata": {},
   "outputs": [],
   "source": [
    "#replacing 0 with NaN of runtime column of the dataframe\n",
    "tmdb['runtime'] = tmdb['runtime'].replace(0, np.NaN)\n",
    "tmdb['budget_adj'] = tmdb['budget_adj'].replace(0, np.NaN)\n",
    "tmdb['revenue_adj'] = tmdb['revenue_adj'].replace(0, np.NaN)"
   ]
  },
  {
   "cell_type": "markdown",
   "metadata": {},
   "source": [
    "##### 4) General Properties of data: "
   ]
  },
  {
   "cell_type": "code",
   "execution_count": 5,
   "metadata": {},
   "outputs": [
    {
     "name": "stdout",
     "output_type": "stream",
     "text": [
      "We have 10865 total entries of movies and 13 columns/features of it.\n",
      "\n",
      "\n",
      "<class 'pandas.core.frame.DataFrame'>\n",
      "RangeIndex: 10866 entries, 0 to 10865\n",
      "Data columns (total 13 columns):\n",
      "id                10866 non-null int64\n",
      "popularity        10866 non-null float64\n",
      "original_title    10866 non-null object\n",
      "cast              10790 non-null object\n",
      "director          10822 non-null object\n",
      "runtime           10835 non-null float64\n",
      "genres            10843 non-null object\n",
      "release_date      10866 non-null object\n",
      "vote_count        10866 non-null int64\n",
      "vote_average      10866 non-null float64\n",
      "release_year      10866 non-null int64\n",
      "budget_adj        5170 non-null float64\n",
      "revenue_adj       4850 non-null float64\n",
      "dtypes: float64(5), int64(3), object(5)\n",
      "memory usage: 1.1+ MB\n"
     ]
    }
   ],
   "source": [
    "rows, col = tmdb.shape\n",
    "#since 'rows' includes count of a header, we need to avoid its count.\n",
    "print('We have {} total entries of movies and {} columns/features of it.\\n\\n'.format(rows-1, col))\n",
    "tmdb.info()"
   ]
  },
  {
   "cell_type": "markdown",
   "metadata": {},
   "source": [
    "##### 5) Handling Null Values:\n",
    "\n",
    "- Checking which columns have Null Values..."
   ]
  },
  {
   "cell_type": "code",
   "execution_count": 6,
   "metadata": {},
   "outputs": [
    {
     "data": {
      "text/plain": [
       "id                   0\n",
       "popularity           0\n",
       "original_title       0\n",
       "cast                76\n",
       "director            44\n",
       "runtime             31\n",
       "genres              23\n",
       "release_date         0\n",
       "vote_count           0\n",
       "vote_average         0\n",
       "release_year         0\n",
       "budget_adj        5696\n",
       "revenue_adj       6016\n",
       "dtype: int64"
      ]
     },
     "execution_count": 6,
     "metadata": {},
     "output_type": "execute_result"
    }
   ],
   "source": [
    "tmdb.isnull().sum()"
   ]
  },
  {
   "cell_type": "markdown",
   "metadata": {},
   "source": [
    "- Removing rows having Null values"
   ]
  },
  {
   "cell_type": "code",
   "execution_count": 7,
   "metadata": {},
   "outputs": [
    {
     "data": {
      "text/plain": [
       "id                0\n",
       "popularity        0\n",
       "original_title    0\n",
       "cast              0\n",
       "director          0\n",
       "runtime           0\n",
       "genres            0\n",
       "release_date      0\n",
       "vote_count        0\n",
       "vote_average      0\n",
       "release_year      0\n",
       "budget_adj        0\n",
       "revenue_adj       0\n",
       "dtype: int64"
      ]
     },
     "execution_count": 7,
     "metadata": {},
     "output_type": "execute_result"
    }
   ],
   "source": [
    "tmdb.dropna(subset=['cast', 'director', 'genres','budget_adj','revenue_adj'],how='any', inplace=True)\n",
    "tmdb.isnull().sum()"
   ]
  },
  {
   "cell_type": "markdown",
   "metadata": {},
   "source": [
    "##### 6) Handling duplicates:\n",
    "- Checking Duplicates...."
   ]
  },
  {
   "cell_type": "code",
   "execution_count": 8,
   "metadata": {},
   "outputs": [
    {
     "data": {
      "text/plain": [
       "1"
      ]
     },
     "execution_count": 8,
     "metadata": {},
     "output_type": "execute_result"
    }
   ],
   "source": [
    "sum(tmdb.duplicated())"
   ]
  },
  {
   "cell_type": "markdown",
   "metadata": {},
   "source": [
    "- Removing Duplicates...."
   ]
  },
  {
   "cell_type": "code",
   "execution_count": 9,
   "metadata": {},
   "outputs": [
    {
     "data": {
      "text/plain": [
       "0"
      ]
     },
     "execution_count": 9,
     "metadata": {},
     "output_type": "execute_result"
    }
   ],
   "source": [
    "tmdb=tmdb.drop_duplicates(keep=False)\n",
    "tmdb.duplicated().sum()"
   ]
  },
  {
   "cell_type": "code",
   "execution_count": 10,
   "metadata": {},
   "outputs": [
    {
     "data": {
      "text/plain": [
       "(3848, 13)"
      ]
     },
     "execution_count": 10,
     "metadata": {},
     "output_type": "execute_result"
    }
   ],
   "source": [
    "tmdb.shape"
   ]
  },
  {
   "cell_type": "markdown",
   "metadata": {},
   "source": [
    "##### 7) Lets see if all the columns are in the format that we want for our calculations:"
   ]
  },
  {
   "cell_type": "code",
   "execution_count": 11,
   "metadata": {},
   "outputs": [
    {
     "data": {
      "text/plain": [
       "id                  int64\n",
       "popularity        float64\n",
       "original_title     object\n",
       "cast               object\n",
       "director           object\n",
       "runtime           float64\n",
       "genres             object\n",
       "release_date       object\n",
       "vote_count          int64\n",
       "vote_average      float64\n",
       "release_year        int64\n",
       "budget_adj        float64\n",
       "revenue_adj       float64\n",
       "dtype: object"
      ]
     },
     "execution_count": 11,
     "metadata": {},
     "output_type": "execute_result"
    }
   ],
   "source": [
    "#showing the datatypes of all the columns\n",
    "tmdb.dtypes"
   ]
  },
  {
   "cell_type": "markdown",
   "metadata": {},
   "source": [
    "*1. We can see that we have float values for 'budget_adj' and 'revenue_adj' columns, since we dont need float but in int datatype, lets convert them.*\n",
    "\n",
    "\n",
    "*2. We need to convert the 'release_date' column to date format.*\n"
   ]
  },
  {
   "cell_type": "markdown",
   "metadata": {},
   "source": [
    " - Converting budget_adj and revenue_adj from float to int."
   ]
  },
  {
   "cell_type": "code",
   "execution_count": 12,
   "metadata": {},
   "outputs": [
    {
     "data": {
      "text/plain": [
       "id                  int64\n",
       "popularity        float64\n",
       "original_title     object\n",
       "cast               object\n",
       "director           object\n",
       "runtime           float64\n",
       "genres             object\n",
       "release_date       object\n",
       "vote_count          int64\n",
       "vote_average      float64\n",
       "release_year        int64\n",
       "budget_adj          int64\n",
       "revenue_adj         int64\n",
       "dtype: object"
      ]
     },
     "execution_count": 12,
     "metadata": {},
     "output_type": "execute_result"
    }
   ],
   "source": [
    "change_coltype = ['budget_adj', 'revenue_adj']\n",
    "tmdb[change_coltype] = tmdb[change_coltype].applymap(np.int64)\n",
    "tmdb.dtypes\n"
   ]
  },
  {
   "cell_type": "markdown",
   "metadata": {},
   "source": [
    "- converting date to datetime format"
   ]
  },
  {
   "cell_type": "code",
   "execution_count": 13,
   "metadata": {},
   "outputs": [
    {
     "data": {
      "text/html": [
       "<div>\n",
       "<style scoped>\n",
       "    .dataframe tbody tr th:only-of-type {\n",
       "        vertical-align: middle;\n",
       "    }\n",
       "\n",
       "    .dataframe tbody tr th {\n",
       "        vertical-align: top;\n",
       "    }\n",
       "\n",
       "    .dataframe thead th {\n",
       "        text-align: right;\n",
       "    }\n",
       "</style>\n",
       "<table border=\"1\" class=\"dataframe\">\n",
       "  <thead>\n",
       "    <tr style=\"text-align: right;\">\n",
       "      <th></th>\n",
       "      <th>id</th>\n",
       "      <th>popularity</th>\n",
       "      <th>original_title</th>\n",
       "      <th>cast</th>\n",
       "      <th>director</th>\n",
       "      <th>runtime</th>\n",
       "      <th>genres</th>\n",
       "      <th>release_date</th>\n",
       "      <th>vote_count</th>\n",
       "      <th>vote_average</th>\n",
       "      <th>release_year</th>\n",
       "      <th>budget_adj</th>\n",
       "      <th>revenue_adj</th>\n",
       "    </tr>\n",
       "  </thead>\n",
       "  <tbody>\n",
       "    <tr>\n",
       "      <th>0</th>\n",
       "      <td>135397</td>\n",
       "      <td>32.985763</td>\n",
       "      <td>Jurassic World</td>\n",
       "      <td>Chris Pratt|Bryce Dallas Howard|Irrfan Khan|Vi...</td>\n",
       "      <td>Colin Trevorrow</td>\n",
       "      <td>124.0</td>\n",
       "      <td>Action|Adventure|Science Fiction|Thriller</td>\n",
       "      <td>2015-06-09</td>\n",
       "      <td>5562</td>\n",
       "      <td>6.5</td>\n",
       "      <td>2015</td>\n",
       "      <td>137999939</td>\n",
       "      <td>1392445892</td>\n",
       "    </tr>\n",
       "    <tr>\n",
       "      <th>1</th>\n",
       "      <td>76341</td>\n",
       "      <td>28.419936</td>\n",
       "      <td>Mad Max: Fury Road</td>\n",
       "      <td>Tom Hardy|Charlize Theron|Hugh Keays-Byrne|Nic...</td>\n",
       "      <td>George Miller</td>\n",
       "      <td>120.0</td>\n",
       "      <td>Action|Adventure|Science Fiction|Thriller</td>\n",
       "      <td>2015-05-13</td>\n",
       "      <td>6185</td>\n",
       "      <td>7.1</td>\n",
       "      <td>2015</td>\n",
       "      <td>137999939</td>\n",
       "      <td>348161292</td>\n",
       "    </tr>\n",
       "  </tbody>\n",
       "</table>\n",
       "</div>"
      ],
      "text/plain": [
       "       id  popularity      original_title  \\\n",
       "0  135397   32.985763      Jurassic World   \n",
       "1   76341   28.419936  Mad Max: Fury Road   \n",
       "\n",
       "                                                cast         director  \\\n",
       "0  Chris Pratt|Bryce Dallas Howard|Irrfan Khan|Vi...  Colin Trevorrow   \n",
       "1  Tom Hardy|Charlize Theron|Hugh Keays-Byrne|Nic...    George Miller   \n",
       "\n",
       "   runtime                                     genres release_date  \\\n",
       "0    124.0  Action|Adventure|Science Fiction|Thriller   2015-06-09   \n",
       "1    120.0  Action|Adventure|Science Fiction|Thriller   2015-05-13   \n",
       "\n",
       "   vote_count  vote_average  release_year  budget_adj  revenue_adj  \n",
       "0        5562           6.5          2015   137999939   1392445892  \n",
       "1        6185           7.1          2015   137999939    348161292  "
      ]
     },
     "execution_count": 13,
     "metadata": {},
     "output_type": "execute_result"
    }
   ],
   "source": [
    "#calling the column which need to be formatted in datetime and storing those values in them\n",
    "tmdb.release_date = pd.to_datetime(tmdb['release_date'])\n",
    "\n",
    "#showing the dataset\n",
    "tmdb.head(2)"
   ]
  },
  {
   "cell_type": "markdown",
   "metadata": {},
   "source": [
    "Now all columns are in the desired format.\n",
    "\n",
    "##### Lets proceed to Analysis...\n",
    "\n",
    "## <u>Exploratory Data Analysis</u>"
   ]
  },
  {
   "cell_type": "markdown",
   "metadata": {},
   "source": [
    "Making separate column on profit for further analysis..."
   ]
  },
  {
   "cell_type": "code",
   "execution_count": 14,
   "metadata": {},
   "outputs": [
    {
     "data": {
      "text/html": [
       "<div>\n",
       "<style scoped>\n",
       "    .dataframe tbody tr th:only-of-type {\n",
       "        vertical-align: middle;\n",
       "    }\n",
       "\n",
       "    .dataframe tbody tr th {\n",
       "        vertical-align: top;\n",
       "    }\n",
       "\n",
       "    .dataframe thead th {\n",
       "        text-align: right;\n",
       "    }\n",
       "</style>\n",
       "<table border=\"1\" class=\"dataframe\">\n",
       "  <thead>\n",
       "    <tr style=\"text-align: right;\">\n",
       "      <th></th>\n",
       "      <th>id</th>\n",
       "      <th>popularity</th>\n",
       "      <th>profit_adj</th>\n",
       "      <th>original_title</th>\n",
       "      <th>cast</th>\n",
       "      <th>director</th>\n",
       "      <th>runtime</th>\n",
       "      <th>genres</th>\n",
       "      <th>release_date</th>\n",
       "      <th>vote_count</th>\n",
       "      <th>vote_average</th>\n",
       "      <th>release_year</th>\n",
       "      <th>budget_adj</th>\n",
       "      <th>revenue_adj</th>\n",
       "    </tr>\n",
       "  </thead>\n",
       "  <tbody>\n",
       "    <tr>\n",
       "      <th>0</th>\n",
       "      <td>135397</td>\n",
       "      <td>32.985763</td>\n",
       "      <td>1254445953</td>\n",
       "      <td>Jurassic World</td>\n",
       "      <td>Chris Pratt|Bryce Dallas Howard|Irrfan Khan|Vi...</td>\n",
       "      <td>Colin Trevorrow</td>\n",
       "      <td>124.0</td>\n",
       "      <td>Action|Adventure|Science Fiction|Thriller</td>\n",
       "      <td>2015-06-09</td>\n",
       "      <td>5562</td>\n",
       "      <td>6.5</td>\n",
       "      <td>2015</td>\n",
       "      <td>137999939</td>\n",
       "      <td>1392445892</td>\n",
       "    </tr>\n",
       "    <tr>\n",
       "      <th>1</th>\n",
       "      <td>76341</td>\n",
       "      <td>28.419936</td>\n",
       "      <td>210161353</td>\n",
       "      <td>Mad Max: Fury Road</td>\n",
       "      <td>Tom Hardy|Charlize Theron|Hugh Keays-Byrne|Nic...</td>\n",
       "      <td>George Miller</td>\n",
       "      <td>120.0</td>\n",
       "      <td>Action|Adventure|Science Fiction|Thriller</td>\n",
       "      <td>2015-05-13</td>\n",
       "      <td>6185</td>\n",
       "      <td>7.1</td>\n",
       "      <td>2015</td>\n",
       "      <td>137999939</td>\n",
       "      <td>348161292</td>\n",
       "    </tr>\n",
       "  </tbody>\n",
       "</table>\n",
       "</div>"
      ],
      "text/plain": [
       "       id  popularity  profit_adj      original_title  \\\n",
       "0  135397   32.985763  1254445953      Jurassic World   \n",
       "1   76341   28.419936   210161353  Mad Max: Fury Road   \n",
       "\n",
       "                                                cast         director  \\\n",
       "0  Chris Pratt|Bryce Dallas Howard|Irrfan Khan|Vi...  Colin Trevorrow   \n",
       "1  Tom Hardy|Charlize Theron|Hugh Keays-Byrne|Nic...    George Miller   \n",
       "\n",
       "   runtime                                     genres release_date  \\\n",
       "0    124.0  Action|Adventure|Science Fiction|Thriller   2015-06-09   \n",
       "1    120.0  Action|Adventure|Science Fiction|Thriller   2015-05-13   \n",
       "\n",
       "   vote_count  vote_average  release_year  budget_adj  revenue_adj  \n",
       "0        5562           6.5          2015   137999939   1392445892  \n",
       "1        6185           7.1          2015   137999939    348161292  "
      ]
     },
     "execution_count": 14,
     "metadata": {},
     "output_type": "execute_result"
    }
   ],
   "source": [
    "#To calculate profit of each movie, we need to substract the budget from the revenue of each movie\n",
    "tmdb.insert(2, 'profit_adj', tmdb['revenue_adj'] - tmdb['budget_adj'])\n",
    "\n",
    "#showing the dataset\n",
    "tmdb.head(2)"
   ]
  },
  {
   "cell_type": "markdown",
   "metadata": {},
   "source": [
    "### Q1. Let's see some overall analysis of various columns: "
   ]
  },
  {
   "cell_type": "code",
   "execution_count": 15,
   "metadata": {},
   "outputs": [
    {
     "data": {
      "text/html": [
       "<div>\n",
       "<style scoped>\n",
       "    .dataframe tbody tr th:only-of-type {\n",
       "        vertical-align: middle;\n",
       "    }\n",
       "\n",
       "    .dataframe tbody tr th {\n",
       "        vertical-align: top;\n",
       "    }\n",
       "\n",
       "    .dataframe thead th {\n",
       "        text-align: right;\n",
       "    }\n",
       "</style>\n",
       "<table border=\"1\" class=\"dataframe\">\n",
       "  <thead>\n",
       "    <tr style=\"text-align: right;\">\n",
       "      <th></th>\n",
       "      <th>id</th>\n",
       "      <th>popularity</th>\n",
       "      <th>profit_adj</th>\n",
       "      <th>runtime</th>\n",
       "      <th>vote_count</th>\n",
       "      <th>vote_average</th>\n",
       "      <th>release_year</th>\n",
       "      <th>budget_adj</th>\n",
       "      <th>revenue_adj</th>\n",
       "    </tr>\n",
       "  </thead>\n",
       "  <tbody>\n",
       "    <tr>\n",
       "      <th>count</th>\n",
       "      <td>3848.000000</td>\n",
       "      <td>3848.000000</td>\n",
       "      <td>3.848000e+03</td>\n",
       "      <td>3848.000000</td>\n",
       "      <td>3848.000000</td>\n",
       "      <td>3848.000000</td>\n",
       "      <td>3848.000000</td>\n",
       "      <td>3.848000e+03</td>\n",
       "      <td>3.848000e+03</td>\n",
       "    </tr>\n",
       "    <tr>\n",
       "      <th>mean</th>\n",
       "      <td>39884.546778</td>\n",
       "      <td>1.193088</td>\n",
       "      <td>9.296941e+07</td>\n",
       "      <td>109.221933</td>\n",
       "      <td>528.495842</td>\n",
       "      <td>6.168997</td>\n",
       "      <td>2001.255977</td>\n",
       "      <td>4.429732e+07</td>\n",
       "      <td>1.372667e+08</td>\n",
       "    </tr>\n",
       "    <tr>\n",
       "      <th>std</th>\n",
       "      <td>67257.620158</td>\n",
       "      <td>1.475783</td>\n",
       "      <td>1.941869e+08</td>\n",
       "      <td>19.914794</td>\n",
       "      <td>880.422193</td>\n",
       "      <td>0.794577</td>\n",
       "      <td>11.286229</td>\n",
       "      <td>4.481883e+07</td>\n",
       "      <td>2.162187e+08</td>\n",
       "    </tr>\n",
       "    <tr>\n",
       "      <th>min</th>\n",
       "      <td>5.000000</td>\n",
       "      <td>0.001117</td>\n",
       "      <td>-4.139124e+08</td>\n",
       "      <td>15.000000</td>\n",
       "      <td>10.000000</td>\n",
       "      <td>2.200000</td>\n",
       "      <td>1960.000000</td>\n",
       "      <td>0.000000e+00</td>\n",
       "      <td>2.000000e+00</td>\n",
       "    </tr>\n",
       "    <tr>\n",
       "      <th>25%</th>\n",
       "      <td>6071.000000</td>\n",
       "      <td>0.463291</td>\n",
       "      <td>-1.498934e+06</td>\n",
       "      <td>95.750000</td>\n",
       "      <td>71.000000</td>\n",
       "      <td>5.700000</td>\n",
       "      <td>1995.000000</td>\n",
       "      <td>1.315864e+07</td>\n",
       "      <td>1.843827e+07</td>\n",
       "    </tr>\n",
       "    <tr>\n",
       "      <th>50%</th>\n",
       "      <td>11311.000000</td>\n",
       "      <td>0.799015</td>\n",
       "      <td>2.746787e+07</td>\n",
       "      <td>106.000000</td>\n",
       "      <td>205.000000</td>\n",
       "      <td>6.200000</td>\n",
       "      <td>2004.000000</td>\n",
       "      <td>3.007926e+07</td>\n",
       "      <td>6.182197e+07</td>\n",
       "    </tr>\n",
       "    <tr>\n",
       "      <th>75%</th>\n",
       "      <td>38569.750000</td>\n",
       "      <td>1.374400</td>\n",
       "      <td>1.075787e+08</td>\n",
       "      <td>119.000000</td>\n",
       "      <td>581.250000</td>\n",
       "      <td>6.700000</td>\n",
       "      <td>2010.000000</td>\n",
       "      <td>6.076720e+07</td>\n",
       "      <td>1.635528e+08</td>\n",
       "    </tr>\n",
       "    <tr>\n",
       "      <th>max</th>\n",
       "      <td>417859.000000</td>\n",
       "      <td>32.985763</td>\n",
       "      <td>2.750137e+09</td>\n",
       "      <td>338.000000</td>\n",
       "      <td>9767.000000</td>\n",
       "      <td>8.400000</td>\n",
       "      <td>2015.000000</td>\n",
       "      <td>4.250000e+08</td>\n",
       "      <td>2.827124e+09</td>\n",
       "    </tr>\n",
       "  </tbody>\n",
       "</table>\n",
       "</div>"
      ],
      "text/plain": [
       "                  id   popularity    profit_adj      runtime   vote_count  \\\n",
       "count    3848.000000  3848.000000  3.848000e+03  3848.000000  3848.000000   \n",
       "mean    39884.546778     1.193088  9.296941e+07   109.221933   528.495842   \n",
       "std     67257.620158     1.475783  1.941869e+08    19.914794   880.422193   \n",
       "min         5.000000     0.001117 -4.139124e+08    15.000000    10.000000   \n",
       "25%      6071.000000     0.463291 -1.498934e+06    95.750000    71.000000   \n",
       "50%     11311.000000     0.799015  2.746787e+07   106.000000   205.000000   \n",
       "75%     38569.750000     1.374400  1.075787e+08   119.000000   581.250000   \n",
       "max    417859.000000    32.985763  2.750137e+09   338.000000  9767.000000   \n",
       "\n",
       "       vote_average  release_year    budget_adj   revenue_adj  \n",
       "count   3848.000000   3848.000000  3.848000e+03  3.848000e+03  \n",
       "mean       6.168997   2001.255977  4.429732e+07  1.372667e+08  \n",
       "std        0.794577     11.286229  4.481883e+07  2.162187e+08  \n",
       "min        2.200000   1960.000000  0.000000e+00  2.000000e+00  \n",
       "25%        5.700000   1995.000000  1.315864e+07  1.843827e+07  \n",
       "50%        6.200000   2004.000000  3.007926e+07  6.182197e+07  \n",
       "75%        6.700000   2010.000000  6.076720e+07  1.635528e+08  \n",
       "max        8.400000   2015.000000  4.250000e+08  2.827124e+09  "
      ]
     },
     "execution_count": 15,
     "metadata": {},
     "output_type": "execute_result"
    }
   ],
   "source": [
    "tmdb.describe()"
   ]
  },
  {
   "cell_type": "markdown",
   "metadata": {},
   "source": [
    "From above dataframe we see a lot of interesting things:\n",
    "- <b>Popularity :</b> \n",
    "We see although `min popularity is 0.001117` and `max is 32.985` but `mean is only 1.19` i.e. only few movies were really popular.\n",
    "\n",
    "- <b>Profit_adj :</b> \n",
    "We find some movies suffered `loss` as high as `4 hundred million dollars` while some have managed to make `profit` as high as `2.7 billion dollars`.\n",
    "\n",
    "- <b>Runtime :</b> \n",
    "Average runtime of movies is approximately `109 minutes`.\n",
    "\n",
    "- <b>Vote_average :</b> \n",
    "Voting average ranged between `2.2 to 8.4`. While mean voting average was `6.16` .\n",
    "\n"
   ]
  },
  {
   "cell_type": "markdown",
   "metadata": {},
   "source": [
    "### Q2 Computing Similiar Analytics: \n",
    "What are the movies with max and min\n",
    "\n",
    "a) Popularity\n",
    "\n",
    "b) Budget\n",
    "\n",
    "c) Revenue\n",
    "\n",
    "d) Profit\n",
    "\n",
    "\n",
    "\n",
    "Note: The left column shows movie with max and right column shows movie with min."
   ]
  },
  {
   "cell_type": "code",
   "execution_count": 16,
   "metadata": {},
   "outputs": [],
   "source": [
    "#Defining a common function which calculates max and min values of columns\n",
    "#taking column name as arguments\n",
    "\n",
    "def max_min(col_name):\n",
    "    \n",
    "    #Highest\n",
    "    #taking the index value of the highest number in profit column\n",
    "    highest = tmdb[col_name].idxmax()\n",
    "    #calling by index number,storing that row info to a variable\n",
    "    highest_details = pd.DataFrame(tmdb.loc[highest])\n",
    "    \n",
    "    #lowest\n",
    "    #same processing as above\n",
    "    lowest = tmdb[col_name].idxmin()\n",
    "    lowest_details = pd.DataFrame(tmdb.loc[lowest])\n",
    "    \n",
    "    #joining two dataframes\n",
    "    two_in_one_data = pd.concat([highest_details, lowest_details], axis = 1)\n",
    "    \n",
    "    return two_in_one_data"
   ]
  },
  {
   "cell_type": "markdown",
   "metadata": {},
   "source": [
    "##### a). Popularity :"
   ]
  },
  {
   "cell_type": "code",
   "execution_count": 17,
   "metadata": {},
   "outputs": [
    {
     "data": {
      "text/html": [
       "<div>\n",
       "<style scoped>\n",
       "    .dataframe tbody tr th:only-of-type {\n",
       "        vertical-align: middle;\n",
       "    }\n",
       "\n",
       "    .dataframe tbody tr th {\n",
       "        vertical-align: top;\n",
       "    }\n",
       "\n",
       "    .dataframe thead th {\n",
       "        text-align: right;\n",
       "    }\n",
       "</style>\n",
       "<table border=\"1\" class=\"dataframe\">\n",
       "  <thead>\n",
       "    <tr style=\"text-align: right;\">\n",
       "      <th></th>\n",
       "      <th>0</th>\n",
       "      <th>7268</th>\n",
       "    </tr>\n",
       "  </thead>\n",
       "  <tbody>\n",
       "    <tr>\n",
       "      <th>id</th>\n",
       "      <td>135397</td>\n",
       "      <td>1392</td>\n",
       "    </tr>\n",
       "    <tr>\n",
       "      <th>popularity</th>\n",
       "      <td>32.9858</td>\n",
       "      <td>0.001117</td>\n",
       "    </tr>\n",
       "    <tr>\n",
       "      <th>profit_adj</th>\n",
       "      <td>1254445953</td>\n",
       "      <td>3653891</td>\n",
       "    </tr>\n",
       "    <tr>\n",
       "      <th>original_title</th>\n",
       "      <td>Jurassic World</td>\n",
       "      <td>Born into Brothels</td>\n",
       "    </tr>\n",
       "    <tr>\n",
       "      <th>cast</th>\n",
       "      <td>Chris Pratt|Bryce Dallas Howard|Irrfan Khan|Vi...</td>\n",
       "      <td>Zana Briski|Avijit|Geeta Masi|Kochi|Mamuni</td>\n",
       "    </tr>\n",
       "    <tr>\n",
       "      <th>director</th>\n",
       "      <td>Colin Trevorrow</td>\n",
       "      <td>Zana Briski|Ross Kauffman</td>\n",
       "    </tr>\n",
       "    <tr>\n",
       "      <th>runtime</th>\n",
       "      <td>124</td>\n",
       "      <td>85</td>\n",
       "    </tr>\n",
       "    <tr>\n",
       "      <th>genres</th>\n",
       "      <td>Action|Adventure|Science Fiction|Thriller</td>\n",
       "      <td>Documentary</td>\n",
       "    </tr>\n",
       "    <tr>\n",
       "      <th>release_date</th>\n",
       "      <td>2015-06-09 00:00:00</td>\n",
       "      <td>2004-12-08 00:00:00</td>\n",
       "    </tr>\n",
       "    <tr>\n",
       "      <th>vote_count</th>\n",
       "      <td>5562</td>\n",
       "      <td>23</td>\n",
       "    </tr>\n",
       "    <tr>\n",
       "      <th>vote_average</th>\n",
       "      <td>6.5</td>\n",
       "      <td>6.4</td>\n",
       "    </tr>\n",
       "    <tr>\n",
       "      <th>release_year</th>\n",
       "      <td>2015</td>\n",
       "      <td>2004</td>\n",
       "    </tr>\n",
       "    <tr>\n",
       "      <th>budget_adj</th>\n",
       "      <td>137999939</td>\n",
       "      <td>404055</td>\n",
       "    </tr>\n",
       "    <tr>\n",
       "      <th>revenue_adj</th>\n",
       "      <td>1392445892</td>\n",
       "      <td>4057946</td>\n",
       "    </tr>\n",
       "  </tbody>\n",
       "</table>\n",
       "</div>"
      ],
      "text/plain": [
       "                                                             0     \\\n",
       "id                                                         135397   \n",
       "popularity                                                32.9858   \n",
       "profit_adj                                             1254445953   \n",
       "original_title                                     Jurassic World   \n",
       "cast            Chris Pratt|Bryce Dallas Howard|Irrfan Khan|Vi...   \n",
       "director                                          Colin Trevorrow   \n",
       "runtime                                                       124   \n",
       "genres                  Action|Adventure|Science Fiction|Thriller   \n",
       "release_date                                  2015-06-09 00:00:00   \n",
       "vote_count                                                   5562   \n",
       "vote_average                                                  6.5   \n",
       "release_year                                                 2015   \n",
       "budget_adj                                              137999939   \n",
       "revenue_adj                                            1392445892   \n",
       "\n",
       "                                                      7268  \n",
       "id                                                    1392  \n",
       "popularity                                        0.001117  \n",
       "profit_adj                                         3653891  \n",
       "original_title                          Born into Brothels  \n",
       "cast            Zana Briski|Avijit|Geeta Masi|Kochi|Mamuni  \n",
       "director                         Zana Briski|Ross Kauffman  \n",
       "runtime                                                 85  \n",
       "genres                                         Documentary  \n",
       "release_date                           2004-12-08 00:00:00  \n",
       "vote_count                                              23  \n",
       "vote_average                                           6.4  \n",
       "release_year                                          2004  \n",
       "budget_adj                                          404055  \n",
       "revenue_adj                                        4057946  "
      ]
     },
     "execution_count": 17,
     "metadata": {},
     "output_type": "execute_result"
    }
   ],
   "source": [
    "#calling the function and passing the argument popularity\n",
    "max_min('popularity')"
   ]
  },
  {
   "cell_type": "markdown",
   "metadata": {},
   "source": [
    "`Jurassic World` is the movie with max popularity of almost 33.\n",
    "\n",
    "`Born in Brothels` is movie with least popularity of 0.0011."
   ]
  },
  {
   "cell_type": "markdown",
   "metadata": {},
   "source": [
    "###### b). Budget :"
   ]
  },
  {
   "cell_type": "code",
   "execution_count": 18,
   "metadata": {},
   "outputs": [
    {
     "data": {
      "text/html": [
       "<div>\n",
       "<style scoped>\n",
       "    .dataframe tbody tr th:only-of-type {\n",
       "        vertical-align: middle;\n",
       "    }\n",
       "\n",
       "    .dataframe tbody tr th {\n",
       "        vertical-align: top;\n",
       "    }\n",
       "\n",
       "    .dataframe thead th {\n",
       "        text-align: right;\n",
       "    }\n",
       "</style>\n",
       "<table border=\"1\" class=\"dataframe\">\n",
       "  <thead>\n",
       "    <tr style=\"text-align: right;\">\n",
       "      <th></th>\n",
       "      <th>2244</th>\n",
       "      <th>3581</th>\n",
       "    </tr>\n",
       "  </thead>\n",
       "  <tbody>\n",
       "    <tr>\n",
       "      <th>id</th>\n",
       "      <td>46528</td>\n",
       "      <td>59296</td>\n",
       "    </tr>\n",
       "    <tr>\n",
       "      <th>popularity</th>\n",
       "      <td>0.25054</td>\n",
       "      <td>0.52043</td>\n",
       "    </tr>\n",
       "    <tr>\n",
       "      <th>profit_adj</th>\n",
       "      <td>-413912431</td>\n",
       "      <td>1335</td>\n",
       "    </tr>\n",
       "    <tr>\n",
       "      <th>original_title</th>\n",
       "      <td>The Warrior's Way</td>\n",
       "      <td>Love, Wedding, Marriage</td>\n",
       "    </tr>\n",
       "    <tr>\n",
       "      <th>cast</th>\n",
       "      <td>Kate Bosworth|Jang Dong-gun|Geoffrey Rush|Dann...</td>\n",
       "      <td>Mandy Moore|Kellan Lutz|Jessica Szohr|Autumn F...</td>\n",
       "    </tr>\n",
       "    <tr>\n",
       "      <th>director</th>\n",
       "      <td>Sngmoo Lee</td>\n",
       "      <td>Dermot Mulroney</td>\n",
       "    </tr>\n",
       "    <tr>\n",
       "      <th>runtime</th>\n",
       "      <td>100</td>\n",
       "      <td>90</td>\n",
       "    </tr>\n",
       "    <tr>\n",
       "      <th>genres</th>\n",
       "      <td>Adventure|Fantasy|Action|Western|Thriller</td>\n",
       "      <td>Comedy|Romance</td>\n",
       "    </tr>\n",
       "    <tr>\n",
       "      <th>release_date</th>\n",
       "      <td>2010-12-02 00:00:00</td>\n",
       "      <td>2011-06-03 00:00:00</td>\n",
       "    </tr>\n",
       "    <tr>\n",
       "      <th>vote_count</th>\n",
       "      <td>74</td>\n",
       "      <td>55</td>\n",
       "    </tr>\n",
       "    <tr>\n",
       "      <th>vote_average</th>\n",
       "      <td>6.4</td>\n",
       "      <td>5.3</td>\n",
       "    </tr>\n",
       "    <tr>\n",
       "      <th>release_year</th>\n",
       "      <td>2010</td>\n",
       "      <td>2011</td>\n",
       "    </tr>\n",
       "    <tr>\n",
       "      <th>budget_adj</th>\n",
       "      <td>425000000</td>\n",
       "      <td>0</td>\n",
       "    </tr>\n",
       "    <tr>\n",
       "      <th>revenue_adj</th>\n",
       "      <td>11087569</td>\n",
       "      <td>1335</td>\n",
       "    </tr>\n",
       "  </tbody>\n",
       "</table>\n",
       "</div>"
      ],
      "text/plain": [
       "                                                             2244  \\\n",
       "id                                                          46528   \n",
       "popularity                                                0.25054   \n",
       "profit_adj                                             -413912431   \n",
       "original_title                                  The Warrior's Way   \n",
       "cast            Kate Bosworth|Jang Dong-gun|Geoffrey Rush|Dann...   \n",
       "director                                               Sngmoo Lee   \n",
       "runtime                                                       100   \n",
       "genres                  Adventure|Fantasy|Action|Western|Thriller   \n",
       "release_date                                  2010-12-02 00:00:00   \n",
       "vote_count                                                     74   \n",
       "vote_average                                                  6.4   \n",
       "release_year                                                 2010   \n",
       "budget_adj                                              425000000   \n",
       "revenue_adj                                              11087569   \n",
       "\n",
       "                                                             3581  \n",
       "id                                                          59296  \n",
       "popularity                                                0.52043  \n",
       "profit_adj                                                   1335  \n",
       "original_title                            Love, Wedding, Marriage  \n",
       "cast            Mandy Moore|Kellan Lutz|Jessica Szohr|Autumn F...  \n",
       "director                                          Dermot Mulroney  \n",
       "runtime                                                        90  \n",
       "genres                                             Comedy|Romance  \n",
       "release_date                                  2011-06-03 00:00:00  \n",
       "vote_count                                                     55  \n",
       "vote_average                                                  5.3  \n",
       "release_year                                                 2011  \n",
       "budget_adj                                                      0  \n",
       "revenue_adj                                                  1335  "
      ]
     },
     "execution_count": 18,
     "metadata": {},
     "output_type": "execute_result"
    }
   ],
   "source": [
    "max_min('budget_adj')"
   ]
  },
  {
   "cell_type": "markdown",
   "metadata": {},
   "source": [
    "`The Warriors Way` had the `highest budget` of all movies in the dataset of about `$425M`. This movie also has a `great loss`.\n",
    "It makes sense that having the highest budget in all makes the film more harder to have higher revenues and earn more profits.\n",
    "\n",
    "`Love, Wedding, Marriage` movie has almost `0 budget`.  Also making revenue of `$1335` and earning a `profit $1335`, this may be a local movie release. Because it's kind of impossible to have such low budget and earning low revenues if it has released internationally."
   ]
  },
  {
   "cell_type": "markdown",
   "metadata": {},
   "source": [
    "###### c). Revenue :"
   ]
  },
  {
   "cell_type": "code",
   "execution_count": 19,
   "metadata": {},
   "outputs": [
    {
     "data": {
      "text/html": [
       "<div>\n",
       "<style scoped>\n",
       "    .dataframe tbody tr th:only-of-type {\n",
       "        vertical-align: middle;\n",
       "    }\n",
       "\n",
       "    .dataframe tbody tr th {\n",
       "        vertical-align: top;\n",
       "    }\n",
       "\n",
       "    .dataframe thead th {\n",
       "        text-align: right;\n",
       "    }\n",
       "</style>\n",
       "<table border=\"1\" class=\"dataframe\">\n",
       "  <thead>\n",
       "    <tr style=\"text-align: right;\">\n",
       "      <th></th>\n",
       "      <th>1386</th>\n",
       "      <th>5067</th>\n",
       "    </tr>\n",
       "  </thead>\n",
       "  <tbody>\n",
       "    <tr>\n",
       "      <th>id</th>\n",
       "      <td>19995</td>\n",
       "      <td>13537</td>\n",
       "    </tr>\n",
       "    <tr>\n",
       "      <th>popularity</th>\n",
       "      <td>9.43277</td>\n",
       "      <td>0.462609</td>\n",
       "    </tr>\n",
       "    <tr>\n",
       "      <th>profit_adj</th>\n",
       "      <td>2586236848</td>\n",
       "      <td>-7112113</td>\n",
       "    </tr>\n",
       "    <tr>\n",
       "      <th>original_title</th>\n",
       "      <td>Avatar</td>\n",
       "      <td>Shattered Glass</td>\n",
       "    </tr>\n",
       "    <tr>\n",
       "      <th>cast</th>\n",
       "      <td>Sam Worthington|Zoe Saldana|Sigourney Weaver|S...</td>\n",
       "      <td>Hayden Christensen|Peter Sarsgaard|ChloÃ« Sevi...</td>\n",
       "    </tr>\n",
       "    <tr>\n",
       "      <th>director</th>\n",
       "      <td>James Cameron</td>\n",
       "      <td>Billy Ray</td>\n",
       "    </tr>\n",
       "    <tr>\n",
       "      <th>runtime</th>\n",
       "      <td>162</td>\n",
       "      <td>94</td>\n",
       "    </tr>\n",
       "    <tr>\n",
       "      <th>genres</th>\n",
       "      <td>Action|Adventure|Fantasy|Science Fiction</td>\n",
       "      <td>Drama|History</td>\n",
       "    </tr>\n",
       "    <tr>\n",
       "      <th>release_date</th>\n",
       "      <td>2009-12-10 00:00:00</td>\n",
       "      <td>2003-11-14 00:00:00</td>\n",
       "    </tr>\n",
       "    <tr>\n",
       "      <th>vote_count</th>\n",
       "      <td>8458</td>\n",
       "      <td>46</td>\n",
       "    </tr>\n",
       "    <tr>\n",
       "      <th>vote_average</th>\n",
       "      <td>7.1</td>\n",
       "      <td>6.4</td>\n",
       "    </tr>\n",
       "    <tr>\n",
       "      <th>release_year</th>\n",
       "      <td>2009</td>\n",
       "      <td>2003</td>\n",
       "    </tr>\n",
       "    <tr>\n",
       "      <th>budget_adj</th>\n",
       "      <td>240886902</td>\n",
       "      <td>7112115</td>\n",
       "    </tr>\n",
       "    <tr>\n",
       "      <th>revenue_adj</th>\n",
       "      <td>2827123750</td>\n",
       "      <td>2</td>\n",
       "    </tr>\n",
       "  </tbody>\n",
       "</table>\n",
       "</div>"
      ],
      "text/plain": [
       "                                                             1386  \\\n",
       "id                                                          19995   \n",
       "popularity                                                9.43277   \n",
       "profit_adj                                             2586236848   \n",
       "original_title                                             Avatar   \n",
       "cast            Sam Worthington|Zoe Saldana|Sigourney Weaver|S...   \n",
       "director                                            James Cameron   \n",
       "runtime                                                       162   \n",
       "genres                   Action|Adventure|Fantasy|Science Fiction   \n",
       "release_date                                  2009-12-10 00:00:00   \n",
       "vote_count                                                   8458   \n",
       "vote_average                                                  7.1   \n",
       "release_year                                                 2009   \n",
       "budget_adj                                              240886902   \n",
       "revenue_adj                                            2827123750   \n",
       "\n",
       "                                                             5067  \n",
       "id                                                          13537  \n",
       "popularity                                               0.462609  \n",
       "profit_adj                                               -7112113  \n",
       "original_title                                    Shattered Glass  \n",
       "cast            Hayden Christensen|Peter Sarsgaard|ChloÃ« Sevi...  \n",
       "director                                                Billy Ray  \n",
       "runtime                                                        94  \n",
       "genres                                              Drama|History  \n",
       "release_date                                  2003-11-14 00:00:00  \n",
       "vote_count                                                     46  \n",
       "vote_average                                                  6.4  \n",
       "release_year                                                 2003  \n",
       "budget_adj                                                7112115  \n",
       "revenue_adj                                                     2  "
      ]
     },
     "execution_count": 19,
     "metadata": {},
     "output_type": "execute_result"
    }
   ],
   "source": [
    "max_min('revenue_adj')"
   ]
  },
  {
   "cell_type": "markdown",
   "metadata": {},
   "source": [
    "`Avatar movie` has made `most revenue`! Making a revenue of more than `$2.8B`.\n",
    "It seems that the more revenue the movie earns the more profit they gained.\n",
    "We also saw in earlier result, The Warriors Way having most budget had less chance of making profits. \n",
    "It really looks that `there's correlation between profit and budget/revenue` but we can't say just by looking at few results.\n",
    "\n",
    "Having `lowest revenue of $2`, `Shattered Glass` movie seems like couldn't sell much tickets."
   ]
  },
  {
   "cell_type": "markdown",
   "metadata": {},
   "source": [
    "##### d). Profit :"
   ]
  },
  {
   "cell_type": "code",
   "execution_count": 20,
   "metadata": {},
   "outputs": [
    {
     "data": {
      "text/html": [
       "<div>\n",
       "<style scoped>\n",
       "    .dataframe tbody tr th:only-of-type {\n",
       "        vertical-align: middle;\n",
       "    }\n",
       "\n",
       "    .dataframe tbody tr th {\n",
       "        vertical-align: top;\n",
       "    }\n",
       "\n",
       "    .dataframe thead th {\n",
       "        text-align: right;\n",
       "    }\n",
       "</style>\n",
       "<table border=\"1\" class=\"dataframe\">\n",
       "  <thead>\n",
       "    <tr style=\"text-align: right;\">\n",
       "      <th></th>\n",
       "      <th>1329</th>\n",
       "      <th>2244</th>\n",
       "    </tr>\n",
       "  </thead>\n",
       "  <tbody>\n",
       "    <tr>\n",
       "      <th>id</th>\n",
       "      <td>11</td>\n",
       "      <td>46528</td>\n",
       "    </tr>\n",
       "    <tr>\n",
       "      <th>popularity</th>\n",
       "      <td>12.0379</td>\n",
       "      <td>0.25054</td>\n",
       "    </tr>\n",
       "    <tr>\n",
       "      <th>profit_adj</th>\n",
       "      <td>2750136651</td>\n",
       "      <td>-413912431</td>\n",
       "    </tr>\n",
       "    <tr>\n",
       "      <th>original_title</th>\n",
       "      <td>Star Wars</td>\n",
       "      <td>The Warrior's Way</td>\n",
       "    </tr>\n",
       "    <tr>\n",
       "      <th>cast</th>\n",
       "      <td>Mark Hamill|Harrison Ford|Carrie Fisher|Peter ...</td>\n",
       "      <td>Kate Bosworth|Jang Dong-gun|Geoffrey Rush|Dann...</td>\n",
       "    </tr>\n",
       "    <tr>\n",
       "      <th>director</th>\n",
       "      <td>George Lucas</td>\n",
       "      <td>Sngmoo Lee</td>\n",
       "    </tr>\n",
       "    <tr>\n",
       "      <th>runtime</th>\n",
       "      <td>121</td>\n",
       "      <td>100</td>\n",
       "    </tr>\n",
       "    <tr>\n",
       "      <th>genres</th>\n",
       "      <td>Adventure|Action|Science Fiction</td>\n",
       "      <td>Adventure|Fantasy|Action|Western|Thriller</td>\n",
       "    </tr>\n",
       "    <tr>\n",
       "      <th>release_date</th>\n",
       "      <td>1977-03-20 00:00:00</td>\n",
       "      <td>2010-12-02 00:00:00</td>\n",
       "    </tr>\n",
       "    <tr>\n",
       "      <th>vote_count</th>\n",
       "      <td>4428</td>\n",
       "      <td>74</td>\n",
       "    </tr>\n",
       "    <tr>\n",
       "      <th>vote_average</th>\n",
       "      <td>7.9</td>\n",
       "      <td>6.4</td>\n",
       "    </tr>\n",
       "    <tr>\n",
       "      <th>release_year</th>\n",
       "      <td>1977</td>\n",
       "      <td>2010</td>\n",
       "    </tr>\n",
       "    <tr>\n",
       "      <th>budget_adj</th>\n",
       "      <td>39575591</td>\n",
       "      <td>425000000</td>\n",
       "    </tr>\n",
       "    <tr>\n",
       "      <th>revenue_adj</th>\n",
       "      <td>2789712242</td>\n",
       "      <td>11087569</td>\n",
       "    </tr>\n",
       "  </tbody>\n",
       "</table>\n",
       "</div>"
      ],
      "text/plain": [
       "                                                             1329  \\\n",
       "id                                                             11   \n",
       "popularity                                                12.0379   \n",
       "profit_adj                                             2750136651   \n",
       "original_title                                          Star Wars   \n",
       "cast            Mark Hamill|Harrison Ford|Carrie Fisher|Peter ...   \n",
       "director                                             George Lucas   \n",
       "runtime                                                       121   \n",
       "genres                           Adventure|Action|Science Fiction   \n",
       "release_date                                  1977-03-20 00:00:00   \n",
       "vote_count                                                   4428   \n",
       "vote_average                                                  7.9   \n",
       "release_year                                                 1977   \n",
       "budget_adj                                               39575591   \n",
       "revenue_adj                                            2789712242   \n",
       "\n",
       "                                                             2244  \n",
       "id                                                          46528  \n",
       "popularity                                                0.25054  \n",
       "profit_adj                                             -413912431  \n",
       "original_title                                  The Warrior's Way  \n",
       "cast            Kate Bosworth|Jang Dong-gun|Geoffrey Rush|Dann...  \n",
       "director                                               Sngmoo Lee  \n",
       "runtime                                                       100  \n",
       "genres                  Adventure|Fantasy|Action|Western|Thriller  \n",
       "release_date                                  2010-12-02 00:00:00  \n",
       "vote_count                                                     74  \n",
       "vote_average                                                  6.4  \n",
       "release_year                                                 2010  \n",
       "budget_adj                                              425000000  \n",
       "revenue_adj                                              11087569  "
      ]
     },
     "execution_count": 20,
     "metadata": {},
     "output_type": "execute_result"
    }
   ],
   "source": [
    "max_min('profit_adj')"
   ]
  },
  {
   "cell_type": "markdown",
   "metadata": {},
   "source": [
    "The film `Star Wars` has the highest profit in all, making over `$2.7B` in `profit` in this dataset.\n",
    "\n",
    "And the movie in this dataset with max loss is `The Warriors Way`. Going in `loss` by more than `$400M` was directed by Singmoo Lee."
   ]
  },
  {
   "cell_type": "markdown",
   "metadata": {},
   "source": [
    "### Q3. What are the top 10 movies by rating?"
   ]
  },
  {
   "cell_type": "code",
   "execution_count": 21,
   "metadata": {},
   "outputs": [
    {
     "data": {
      "text/html": [
       "<div>\n",
       "<style scoped>\n",
       "    .dataframe tbody tr th:only-of-type {\n",
       "        vertical-align: middle;\n",
       "    }\n",
       "\n",
       "    .dataframe tbody tr th {\n",
       "        vertical-align: top;\n",
       "    }\n",
       "\n",
       "    .dataframe thead th {\n",
       "        text-align: right;\n",
       "    }\n",
       "</style>\n",
       "<table border=\"1\" class=\"dataframe\">\n",
       "  <thead>\n",
       "    <tr style=\"text-align: right;\">\n",
       "      <th></th>\n",
       "      <th>id</th>\n",
       "      <th>popularity</th>\n",
       "      <th>profit_adj</th>\n",
       "      <th>original_title</th>\n",
       "      <th>cast</th>\n",
       "      <th>director</th>\n",
       "      <th>runtime</th>\n",
       "      <th>genres</th>\n",
       "      <th>release_date</th>\n",
       "      <th>vote_count</th>\n",
       "      <th>vote_average</th>\n",
       "      <th>release_year</th>\n",
       "      <th>budget_adj</th>\n",
       "      <th>revenue_adj</th>\n",
       "    </tr>\n",
       "  </thead>\n",
       "  <tbody>\n",
       "    <tr>\n",
       "      <th>4178</th>\n",
       "      <td>278</td>\n",
       "      <td>7.192039</td>\n",
       "      <td>4915673</td>\n",
       "      <td>The Shawshank Redemption</td>\n",
       "      <td>Tim Robbins|Morgan Freeman|Bob Gunton|William ...</td>\n",
       "      <td>Frank Darabont</td>\n",
       "      <td>142.0</td>\n",
       "      <td>Drama|Crime</td>\n",
       "      <td>1994-09-10</td>\n",
       "      <td>5754</td>\n",
       "      <td>8.4</td>\n",
       "      <td>1994</td>\n",
       "      <td>36777789</td>\n",
       "      <td>41693462</td>\n",
       "    </tr>\n",
       "    <tr>\n",
       "      <th>7948</th>\n",
       "      <td>24128</td>\n",
       "      <td>0.283191</td>\n",
       "      <td>7932116</td>\n",
       "      <td>Stop Making Sense</td>\n",
       "      <td>David Byrne|Tina Weymouth|Chris Frantz|Jerry H...</td>\n",
       "      <td>Jonathan Demme</td>\n",
       "      <td>88.0</td>\n",
       "      <td>Documentary|Music</td>\n",
       "      <td>1984-11-16</td>\n",
       "      <td>23</td>\n",
       "      <td>8.4</td>\n",
       "      <td>1984</td>\n",
       "      <td>2518850</td>\n",
       "      <td>10450966</td>\n",
       "    </tr>\n",
       "    <tr>\n",
       "      <th>7269</th>\n",
       "      <td>238</td>\n",
       "      <td>5.738034</td>\n",
       "      <td>1246626367</td>\n",
       "      <td>The Godfather</td>\n",
       "      <td>Marlon Brando|Al Pacino|James Caan|Richard S. ...</td>\n",
       "      <td>Francis Ford Coppola</td>\n",
       "      <td>175.0</td>\n",
       "      <td>Drama|Crime</td>\n",
       "      <td>1972-03-15</td>\n",
       "      <td>3970</td>\n",
       "      <td>8.3</td>\n",
       "      <td>1972</td>\n",
       "      <td>31287365</td>\n",
       "      <td>1277913732</td>\n",
       "    </tr>\n",
       "    <tr>\n",
       "      <th>650</th>\n",
       "      <td>244786</td>\n",
       "      <td>4.780419</td>\n",
       "      <td>9849312</td>\n",
       "      <td>Whiplash</td>\n",
       "      <td>Miles Teller|J.K. Simmons|Melissa Benoist|Aust...</td>\n",
       "      <td>Damien Chazelle</td>\n",
       "      <td>105.0</td>\n",
       "      <td>Drama|Music</td>\n",
       "      <td>2014-10-10</td>\n",
       "      <td>2372</td>\n",
       "      <td>8.2</td>\n",
       "      <td>2014</td>\n",
       "      <td>3039600</td>\n",
       "      <td>12888912</td>\n",
       "    </tr>\n",
       "    <tr>\n",
       "      <th>2409</th>\n",
       "      <td>550</td>\n",
       "      <td>8.947905</td>\n",
       "      <td>49552563</td>\n",
       "      <td>Fight Club</td>\n",
       "      <td>Edward Norton|Brad Pitt|Meat Loaf|Jared Leto|H...</td>\n",
       "      <td>David Fincher</td>\n",
       "      <td>139.0</td>\n",
       "      <td>Drama</td>\n",
       "      <td>1999-10-14</td>\n",
       "      <td>5923</td>\n",
       "      <td>8.1</td>\n",
       "      <td>1999</td>\n",
       "      <td>82470329</td>\n",
       "      <td>132022892</td>\n",
       "    </tr>\n",
       "  </tbody>\n",
       "</table>\n",
       "</div>"
      ],
      "text/plain": [
       "          id  popularity  profit_adj            original_title  \\\n",
       "4178     278    7.192039     4915673  The Shawshank Redemption   \n",
       "7948   24128    0.283191     7932116         Stop Making Sense   \n",
       "7269     238    5.738034  1246626367             The Godfather   \n",
       "650   244786    4.780419     9849312                  Whiplash   \n",
       "2409     550    8.947905    49552563                Fight Club   \n",
       "\n",
       "                                                   cast              director  \\\n",
       "4178  Tim Robbins|Morgan Freeman|Bob Gunton|William ...        Frank Darabont   \n",
       "7948  David Byrne|Tina Weymouth|Chris Frantz|Jerry H...        Jonathan Demme   \n",
       "7269  Marlon Brando|Al Pacino|James Caan|Richard S. ...  Francis Ford Coppola   \n",
       "650   Miles Teller|J.K. Simmons|Melissa Benoist|Aust...       Damien Chazelle   \n",
       "2409  Edward Norton|Brad Pitt|Meat Loaf|Jared Leto|H...         David Fincher   \n",
       "\n",
       "      runtime             genres release_date  vote_count  vote_average  \\\n",
       "4178    142.0        Drama|Crime   1994-09-10        5754           8.4   \n",
       "7948     88.0  Documentary|Music   1984-11-16          23           8.4   \n",
       "7269    175.0        Drama|Crime   1972-03-15        3970           8.3   \n",
       "650     105.0        Drama|Music   2014-10-10        2372           8.2   \n",
       "2409    139.0              Drama   1999-10-14        5923           8.1   \n",
       "\n",
       "      release_year  budget_adj  revenue_adj  \n",
       "4178          1994    36777789     41693462  \n",
       "7948          1984     2518850     10450966  \n",
       "7269          1972    31287365   1277913732  \n",
       "650           2014     3039600     12888912  \n",
       "2409          1999    82470329    132022892  "
      ]
     },
     "execution_count": 21,
     "metadata": {},
     "output_type": "execute_result"
    }
   ],
   "source": [
    "tmdb_top10 = tmdb.nlargest(10,'vote_average') #movies with top 10 voting average...\n",
    "tmdb_top10.head(5) # displaying first 5 movies with max voting average.. "
   ]
  },
  {
   "cell_type": "markdown",
   "metadata": {},
   "source": [
    "#### Plotting the graph of Top 10 Movies by Rating"
   ]
  },
  {
   "cell_type": "code",
   "execution_count": 22,
   "metadata": {},
   "outputs": [
    {
     "data": {
      "image/png": "[encoded data removed]",
      "text/plain": [
       "<matplotlib.figure.Figure at 0x24a23a77c88>"
      ]
     },
     "metadata": {},
     "output_type": "display_data"
    }
   ],
   "source": [
    "sns.set(style=\"whitegrid\");\n",
    "sns.set(font_scale=2.0);\n",
    "f, axis = plt.subplots(figsize=(11, 7));\n",
    "axis = sns.barplot(x='vote_average', y='original_title', data=tmdb_top10, palette=\"Blues_d\");\n",
    "\n",
    "axis.set(xlim=(7.9,8.5), ylabel=\"Movie Title\", xlabel=\"Average Rating\");\n",
    "plt.title('Top 10 Movies by Rating');"
   ]
  },
  {
   "cell_type": "markdown",
   "metadata": {},
   "source": [
    "#### <B>RESULT -:</B> The maximum Rated movie is <font color='Red'> THE Shawshank Redemption,Stop Making Sense of Rating : 8.4</font> "
   ]
  },
  {
   "cell_type": "markdown",
   "metadata": {},
   "source": [
    "### Q4. What is the Count of movies based on rating category?"
   ]
  },
  {
   "cell_type": "code",
   "execution_count": 23,
   "metadata": {
    "scrolled": true
   },
   "outputs": [
    {
     "data": {
      "text/plain": [
       "count    3848.000000\n",
       "mean        6.168997\n",
       "std         0.794577\n",
       "min         2.200000\n",
       "25%         5.700000\n",
       "50%         6.200000\n",
       "75%         6.700000\n",
       "max         8.400000\n",
       "Name: vote_average, dtype: float64"
      ]
     },
     "execution_count": 23,
     "metadata": {},
     "output_type": "execute_result"
    }
   ],
   "source": [
    "tmdb.describe()['vote_average']   #calculating and displaying general statistics about vote_average"
   ]
  },
  {
   "cell_type": "markdown",
   "metadata": {},
   "source": [
    "#### Using the describe() function of vote_average I created for catagories rating wise:\n",
    "- \"High\" for movies greater then 75% values\n",
    "- \"Above Average\" for movies between 50% and 75% values\n",
    "- \"Below Average\" for movies between 25% and 50% values\n",
    "- \"Low\" for movies less than 25% value\n"
   ]
  },
  {
   "cell_type": "code",
   "execution_count": 24,
   "metadata": {},
   "outputs": [
    {
     "data": {
      "text/html": [
       "<div>\n",
       "<style scoped>\n",
       "    .dataframe tbody tr th:only-of-type {\n",
       "        vertical-align: middle;\n",
       "    }\n",
       "\n",
       "    .dataframe tbody tr th {\n",
       "        vertical-align: top;\n",
       "    }\n",
       "\n",
       "    .dataframe thead th {\n",
       "        text-align: right;\n",
       "    }\n",
       "</style>\n",
       "<table border=\"1\" class=\"dataframe\">\n",
       "  <thead>\n",
       "    <tr style=\"text-align: right;\">\n",
       "      <th></th>\n",
       "      <th>id</th>\n",
       "      <th>popularity</th>\n",
       "      <th>profit_adj</th>\n",
       "      <th>original_title</th>\n",
       "      <th>cast</th>\n",
       "      <th>director</th>\n",
       "      <th>runtime</th>\n",
       "      <th>genres</th>\n",
       "      <th>release_date</th>\n",
       "      <th>vote_count</th>\n",
       "      <th>vote_average</th>\n",
       "      <th>release_year</th>\n",
       "      <th>budget_adj</th>\n",
       "      <th>revenue_adj</th>\n",
       "      <th>movie_rating</th>\n",
       "    </tr>\n",
       "  </thead>\n",
       "  <tbody>\n",
       "    <tr>\n",
       "      <th>0</th>\n",
       "      <td>135397</td>\n",
       "      <td>32.985763</td>\n",
       "      <td>1254445953</td>\n",
       "      <td>Jurassic World</td>\n",
       "      <td>Chris Pratt|Bryce Dallas Howard|Irrfan Khan|Vi...</td>\n",
       "      <td>Colin Trevorrow</td>\n",
       "      <td>124.0</td>\n",
       "      <td>Action|Adventure|Science Fiction|Thriller</td>\n",
       "      <td>2015-06-09</td>\n",
       "      <td>5562</td>\n",
       "      <td>6.5</td>\n",
       "      <td>2015</td>\n",
       "      <td>137999939</td>\n",
       "      <td>1392445892</td>\n",
       "      <td>Above Average</td>\n",
       "    </tr>\n",
       "    <tr>\n",
       "      <th>1</th>\n",
       "      <td>76341</td>\n",
       "      <td>28.419936</td>\n",
       "      <td>210161353</td>\n",
       "      <td>Mad Max: Fury Road</td>\n",
       "      <td>Tom Hardy|Charlize Theron|Hugh Keays-Byrne|Nic...</td>\n",
       "      <td>George Miller</td>\n",
       "      <td>120.0</td>\n",
       "      <td>Action|Adventure|Science Fiction|Thriller</td>\n",
       "      <td>2015-05-13</td>\n",
       "      <td>6185</td>\n",
       "      <td>7.1</td>\n",
       "      <td>2015</td>\n",
       "      <td>137999939</td>\n",
       "      <td>348161292</td>\n",
       "      <td>High</td>\n",
       "    </tr>\n",
       "    <tr>\n",
       "      <th>2</th>\n",
       "      <td>262500</td>\n",
       "      <td>13.112507</td>\n",
       "      <td>170419070</td>\n",
       "      <td>Insurgent</td>\n",
       "      <td>Shailene Woodley|Theo James|Kate Winslet|Ansel...</td>\n",
       "      <td>Robert Schwentke</td>\n",
       "      <td>119.0</td>\n",
       "      <td>Adventure|Science Fiction|Thriller</td>\n",
       "      <td>2015-03-18</td>\n",
       "      <td>2480</td>\n",
       "      <td>6.3</td>\n",
       "      <td>2015</td>\n",
       "      <td>101199955</td>\n",
       "      <td>271619025</td>\n",
       "      <td>Above Average</td>\n",
       "    </tr>\n",
       "    <tr>\n",
       "      <th>3</th>\n",
       "      <td>140607</td>\n",
       "      <td>11.173104</td>\n",
       "      <td>1718723210</td>\n",
       "      <td>Star Wars: The Force Awakens</td>\n",
       "      <td>Harrison Ford|Mark Hamill|Carrie Fisher|Adam D...</td>\n",
       "      <td>J.J. Abrams</td>\n",
       "      <td>136.0</td>\n",
       "      <td>Action|Adventure|Science Fiction|Fantasy</td>\n",
       "      <td>2015-12-15</td>\n",
       "      <td>5292</td>\n",
       "      <td>7.5</td>\n",
       "      <td>2015</td>\n",
       "      <td>183999919</td>\n",
       "      <td>1902723129</td>\n",
       "      <td>High</td>\n",
       "    </tr>\n",
       "    <tr>\n",
       "      <th>4</th>\n",
       "      <td>168259</td>\n",
       "      <td>9.335014</td>\n",
       "      <td>1210948878</td>\n",
       "      <td>Furious 7</td>\n",
       "      <td>Vin Diesel|Paul Walker|Jason Statham|Michelle ...</td>\n",
       "      <td>James Wan</td>\n",
       "      <td>137.0</td>\n",
       "      <td>Action|Crime|Thriller</td>\n",
       "      <td>2015-04-01</td>\n",
       "      <td>2947</td>\n",
       "      <td>7.3</td>\n",
       "      <td>2015</td>\n",
       "      <td>174799923</td>\n",
       "      <td>1385748801</td>\n",
       "      <td>High</td>\n",
       "    </tr>\n",
       "  </tbody>\n",
       "</table>\n",
       "</div>"
      ],
      "text/plain": [
       "       id  popularity  profit_adj                original_title  \\\n",
       "0  135397   32.985763  1254445953                Jurassic World   \n",
       "1   76341   28.419936   210161353            Mad Max: Fury Road   \n",
       "2  262500   13.112507   170419070                     Insurgent   \n",
       "3  140607   11.173104  1718723210  Star Wars: The Force Awakens   \n",
       "4  168259    9.335014  1210948878                     Furious 7   \n",
       "\n",
       "                                                cast          director  \\\n",
       "0  Chris Pratt|Bryce Dallas Howard|Irrfan Khan|Vi...   Colin Trevorrow   \n",
       "1  Tom Hardy|Charlize Theron|Hugh Keays-Byrne|Nic...     George Miller   \n",
       "2  Shailene Woodley|Theo James|Kate Winslet|Ansel...  Robert Schwentke   \n",
       "3  Harrison Ford|Mark Hamill|Carrie Fisher|Adam D...       J.J. Abrams   \n",
       "4  Vin Diesel|Paul Walker|Jason Statham|Michelle ...         James Wan   \n",
       "\n",
       "   runtime                                     genres release_date  \\\n",
       "0    124.0  Action|Adventure|Science Fiction|Thriller   2015-06-09   \n",
       "1    120.0  Action|Adventure|Science Fiction|Thriller   2015-05-13   \n",
       "2    119.0         Adventure|Science Fiction|Thriller   2015-03-18   \n",
       "3    136.0   Action|Adventure|Science Fiction|Fantasy   2015-12-15   \n",
       "4    137.0                      Action|Crime|Thriller   2015-04-01   \n",
       "\n",
       "   vote_count  vote_average  release_year  budget_adj  revenue_adj  \\\n",
       "0        5562           6.5          2015   137999939   1392445892   \n",
       "1        6185           7.1          2015   137999939    348161292   \n",
       "2        2480           6.3          2015   101199955    271619025   \n",
       "3        5292           7.5          2015   183999919   1902723129   \n",
       "4        2947           7.3          2015   174799923   1385748801   \n",
       "\n",
       "    movie_rating  \n",
       "0  Above Average  \n",
       "1           High  \n",
       "2  Above Average  \n",
       "3           High  \n",
       "4           High  "
      ]
     },
     "execution_count": 24,
     "metadata": {},
     "output_type": "execute_result"
    }
   ],
   "source": [
    "peak_val = [2.2, 5.7, 6.2, 6.7, 8.5] # values of vote_averages min, 25%, 50%, 75%, max\n",
    "catg_names = ['Low','Below Average','Above Average','High'] # Name of categories\n",
    "tmdb['movie_rating'] = pd.cut(tmdb['vote_average'], peak_val, labels=catg_names)\n",
    "tmdb.head()"
   ]
  },
  {
   "cell_type": "markdown",
   "metadata": {},
   "source": [
    "#### Plotting graph  based on Rating Category and Count of movies.."
   ]
  },
  {
   "cell_type": "code",
   "execution_count": 25,
   "metadata": {},
   "outputs": [
    {
     "name": "stdout",
     "output_type": "stream",
     "text": [
      "movie_rating\n",
      "Low              1100\n",
      "Below Average     938\n",
      "Above Average     907\n",
      "High              902\n",
      "Name: genres, dtype: int64\n"
     ]
    },
    {
     "data": {
      "image/png": "[encoded data removed]",
      "text/plain": [
       "<matplotlib.figure.Figure at 0x24a23fa2cf8>"
      ]
     },
     "metadata": {},
     "output_type": "display_data"
    }
   ],
   "source": [
    "counts = tmdb.groupby('movie_rating').count()['genres'];\n",
    "print(counts)\n",
    "sns.set_style(\"darkgrid\")\n",
    "sns.set(font_scale=1.5);\n",
    "f, axis = plt.subplots(figsize=(10, 5));\n",
    "\n",
    "axis = sns.barplot(y=counts.values, x=catg_names, palette=\"Blues_d\");\n",
    "\n",
    "axis.set( ylabel=\"Count\", xlabel=\"Rating\");\n",
    "plt.title('Movies Counts by Catagory Rating');\n"
   ]
  },
  {
   "cell_type": "markdown",
   "metadata": {},
   "source": [
    "##### <b>Result: The count of movies based on vote_average is...</b>"
   ]
  },
  {
   "cell_type": "code",
   "execution_count": 26,
   "metadata": {},
   "outputs": [
    {
     "data": {
      "text/plain": [
       "movie_rating\n",
       "Low              1100\n",
       "Below Average     938\n",
       "Above Average     907\n",
       "High              902\n",
       "Name: genres, dtype: int64"
      ]
     },
     "execution_count": 26,
     "metadata": {},
     "output_type": "execute_result"
    }
   ],
   "source": [
    "tmdb.groupby('movie_rating').count()['genres']"
   ]
  },
  {
   "cell_type": "markdown",
   "metadata": {},
   "source": [
    "### Q5.What attributes do the most profitable movies have?"
   ]
  },
  {
   "cell_type": "markdown",
   "metadata": {},
   "source": [
    "##### Seeing the general statistics we take movies scoring profit more then $50000000 to be most profitable ones"
   ]
  },
  {
   "cell_type": "code",
   "execution_count": 27,
   "metadata": {
    "scrolled": true
   },
   "outputs": [
    {
     "data": {
      "text/html": [
       "<div>\n",
       "<style scoped>\n",
       "    .dataframe tbody tr th:only-of-type {\n",
       "        vertical-align: middle;\n",
       "    }\n",
       "\n",
       "    .dataframe tbody tr th {\n",
       "        vertical-align: top;\n",
       "    }\n",
       "\n",
       "    .dataframe thead th {\n",
       "        text-align: right;\n",
       "    }\n",
       "</style>\n",
       "<table border=\"1\" class=\"dataframe\">\n",
       "  <thead>\n",
       "    <tr style=\"text-align: right;\">\n",
       "      <th></th>\n",
       "      <th>id</th>\n",
       "      <th>popularity</th>\n",
       "      <th>profit_adj</th>\n",
       "      <th>original_title</th>\n",
       "      <th>cast</th>\n",
       "      <th>director</th>\n",
       "      <th>runtime</th>\n",
       "      <th>genres</th>\n",
       "      <th>release_date</th>\n",
       "      <th>vote_count</th>\n",
       "      <th>vote_average</th>\n",
       "      <th>release_year</th>\n",
       "      <th>budget_adj</th>\n",
       "      <th>revenue_adj</th>\n",
       "      <th>movie_rating</th>\n",
       "    </tr>\n",
       "  </thead>\n",
       "  <tbody>\n",
       "    <tr>\n",
       "      <th>1</th>\n",
       "      <td>135397</td>\n",
       "      <td>32.985763</td>\n",
       "      <td>1254445953</td>\n",
       "      <td>Jurassic World</td>\n",
       "      <td>Chris Pratt|Bryce Dallas Howard|Irrfan Khan|Vi...</td>\n",
       "      <td>Colin Trevorrow</td>\n",
       "      <td>124.0</td>\n",
       "      <td>Action|Adventure|Science Fiction|Thriller</td>\n",
       "      <td>2015-06-09</td>\n",
       "      <td>5562</td>\n",
       "      <td>6.5</td>\n",
       "      <td>2015</td>\n",
       "      <td>137999939</td>\n",
       "      <td>1392445892</td>\n",
       "      <td>Above Average</td>\n",
       "    </tr>\n",
       "    <tr>\n",
       "      <th>2</th>\n",
       "      <td>76341</td>\n",
       "      <td>28.419936</td>\n",
       "      <td>210161353</td>\n",
       "      <td>Mad Max: Fury Road</td>\n",
       "      <td>Tom Hardy|Charlize Theron|Hugh Keays-Byrne|Nic...</td>\n",
       "      <td>George Miller</td>\n",
       "      <td>120.0</td>\n",
       "      <td>Action|Adventure|Science Fiction|Thriller</td>\n",
       "      <td>2015-05-13</td>\n",
       "      <td>6185</td>\n",
       "      <td>7.1</td>\n",
       "      <td>2015</td>\n",
       "      <td>137999939</td>\n",
       "      <td>348161292</td>\n",
       "      <td>High</td>\n",
       "    </tr>\n",
       "  </tbody>\n",
       "</table>\n",
       "</div>"
      ],
      "text/plain": [
       "       id  popularity  profit_adj      original_title  \\\n",
       "1  135397   32.985763  1254445953      Jurassic World   \n",
       "2   76341   28.419936   210161353  Mad Max: Fury Road   \n",
       "\n",
       "                                                cast         director  \\\n",
       "1  Chris Pratt|Bryce Dallas Howard|Irrfan Khan|Vi...  Colin Trevorrow   \n",
       "2  Tom Hardy|Charlize Theron|Hugh Keays-Byrne|Nic...    George Miller   \n",
       "\n",
       "   runtime                                     genres release_date  \\\n",
       "1    124.0  Action|Adventure|Science Fiction|Thriller   2015-06-09   \n",
       "2    120.0  Action|Adventure|Science Fiction|Thriller   2015-05-13   \n",
       "\n",
       "   vote_count  vote_average  release_year  budget_adj  revenue_adj  \\\n",
       "1        5562           6.5          2015   137999939   1392445892   \n",
       "2        6185           7.1          2015   137999939    348161292   \n",
       "\n",
       "    movie_rating  \n",
       "1  Above Average  \n",
       "2           High  "
      ]
     },
     "execution_count": 27,
     "metadata": {},
     "output_type": "execute_result"
    }
   ],
   "source": [
    "profit_adj = tmdb[tmdb['profit_adj'] >= 50000000]\n",
    "\n",
    "#creating a new dataframe profit_adj with only those movies that have profit greater than 50000000.\n",
    "\n",
    "#reindexing new dataframe\n",
    "profit_adj.index = range(len(profit_adj))\n",
    "\n",
    "#will initialize dataframe from 1 instead of 0\n",
    "profit_adj.index = profit_adj.index + 1\n",
    "\n",
    "#showing the dataset\n",
    "profit_adj.head(2)"
   ]
  },
  {
   "cell_type": "markdown",
   "metadata": {},
   "source": [
    "##### Computing general characteristics of most profitable movies :-"
   ]
  },
  {
   "cell_type": "markdown",
   "metadata": {},
   "source": [
    "No of movies with profit greater than $50 million"
   ]
  },
  {
   "cell_type": "code",
   "execution_count": 28,
   "metadata": {},
   "outputs": [
    {
     "data": {
      "text/plain": [
       "1542"
      ]
     },
     "execution_count": 28,
     "metadata": {},
     "output_type": "execute_result"
    }
   ],
   "source": [
    "len(profit_adj)                      #no of movies with max profit..."
   ]
  },
  {
   "cell_type": "code",
   "execution_count": 29,
   "metadata": {},
   "outputs": [],
   "source": [
    "def profit_avg_fuc(column_name):     #common function to compute mean of various parameters of most profitable movies..\n",
    "    return profit_adj[column_name].mean()"
   ]
  },
  {
   "cell_type": "code",
   "execution_count": 30,
   "metadata": {},
   "outputs": [
    {
     "data": {
      "text/plain": [
       "113.66990920881972"
      ]
     },
     "execution_count": 30,
     "metadata": {},
     "output_type": "execute_result"
    }
   ],
   "source": [
    "profit_avg_fuc('runtime')            #calculating average 'runtime' of most profitable movies..."
   ]
  },
  {
   "cell_type": "code",
   "execution_count": 31,
   "metadata": {},
   "outputs": [
    {
     "data": {
      "text/plain": [
       "64357773.737354085"
      ]
     },
     "execution_count": 31,
     "metadata": {},
     "output_type": "execute_result"
    }
   ],
   "source": [
    "profit_avg_fuc('budget_adj')         # average 'budget' of most profitable movies... "
   ]
  },
  {
   "cell_type": "code",
   "execution_count": 32,
   "metadata": {},
   "outputs": [
    {
     "data": {
      "text/plain": [
       "292607785.13942933"
      ]
     },
     "execution_count": 32,
     "metadata": {},
     "output_type": "execute_result"
    }
   ],
   "source": [
    "profit_avg_fuc('revenue_adj')        # average 'revenue' of most profitable movies..."
   ]
  },
  {
   "cell_type": "code",
   "execution_count": 33,
   "metadata": {},
   "outputs": [
    {
     "data": {
      "text/plain": [
       "228250011.40207523"
      ]
     },
     "execution_count": 33,
     "metadata": {},
     "output_type": "execute_result"
    }
   ],
   "source": [
    "profit_avg_fuc('profit_adj')        #average 'profit' of most profitable movies..."
   ]
  },
  {
   "cell_type": "code",
   "execution_count": 34,
   "metadata": {},
   "outputs": [],
   "source": [
    "def extract_data(column_name):      # function to seperate various strings in a column cell seperated by '|'\n",
    "    #will take a column, and separate the string by '|'\n",
    "    all_data = profit_adj[column_name].str.cat(sep = '|')\n",
    "    \n",
    "    #giving pandas series and storing the values separately\n",
    "    all_data = pd.Series(all_data.split('|'))\n",
    "    \n",
    "    #this will us value in descending order\n",
    "    count = all_data.value_counts(ascending = False)\n",
    "    \n",
    "    return count"
   ]
  },
  {
   "cell_type": "markdown",
   "metadata": {},
   "source": [
    "- #### Top Directors:"
   ]
  },
  {
   "cell_type": "code",
   "execution_count": 35,
   "metadata": {},
   "outputs": [
    {
     "data": {
      "text/plain": [
       "Steven Spielberg    25\n",
       "Clint Eastwood      18\n",
       "Tim Burton          13\n",
       "Robert Zemeckis     13\n",
       "Tony Scott          10\n",
       "dtype: int64"
      ]
     },
     "execution_count": 35,
     "metadata": {},
     "output_type": "execute_result"
    }
   ],
   "source": [
    "director_count = extract_data('director')\n",
    "#showing top 5 directors\n",
    "director_count.head()"
   ]
  },
  {
   "cell_type": "code",
   "execution_count": 36,
   "metadata": {},
   "outputs": [
    {
     "data": {
      "image/png": "[encoded data removed]",
      "text/plain": [
       "<matplotlib.figure.Figure at 0x24a238210b8>"
      ]
     },
     "metadata": {},
     "output_type": "display_data"
    }
   ],
   "source": [
    "director_graph= director_count.head(10)\n",
    "sns.set_style(\"darkgrid\")\n",
    "sns.set(font_scale=1.5);\n",
    "f, axis = plt.subplots(figsize=(10, 5));\n",
    "\n",
    "axis = sns.barplot(x=director_graph.index, y=director_graph.values, palette=\"Spectral\");\n",
    "\n",
    "axis.set( ylabel=\"Count\", xlabel=\"Director Names\");\n",
    "plt.title('Directors count for most profitable movies');\n",
    "plt.xticks(rotation=90);"
   ]
  },
  {
   "cell_type": "markdown",
   "metadata": {},
   "source": [
    "- ##### Top cast members:"
   ]
  },
  {
   "cell_type": "code",
   "execution_count": 37,
   "metadata": {},
   "outputs": [
    {
     "data": {
      "text/plain": [
       "Tom Cruise            29\n",
       "Brad Pitt             25\n",
       "Tom Hanks             25\n",
       "Robert De Niro        23\n",
       "Sylvester Stallone    21\n",
       "dtype: int64"
      ]
     },
     "execution_count": 37,
     "metadata": {},
     "output_type": "execute_result"
    }
   ],
   "source": [
    "cast_count = extract_data('cast')\n",
    "#showing top 5 cast members\n",
    "cast_count.head()"
   ]
  },
  {
   "cell_type": "code",
   "execution_count": 38,
   "metadata": {},
   "outputs": [
    {
     "data": {
      "image/png": "[encoded data removed]",
      "text/plain": [
       "<matplotlib.figure.Figure at 0x24a23cdbba8>"
      ]
     },
     "metadata": {},
     "output_type": "display_data"
    }
   ],
   "source": [
    "cast_graph= cast_count.head(10)\n",
    "sns.set_style(\"darkgrid\")\n",
    "sns.set(font_scale=1.5);\n",
    "f, axis = plt.subplots(figsize=(10, 5));\n",
    "\n",
    "axis = sns.barplot(x=cast_graph.index, y=cast_graph.values, palette=\"cubehelix\");\n",
    "\n",
    "axis.set( ylabel=\"Count\", xlabel=\"Cast\");\n",
    "plt.title('Cast count for most profitable movies');\n",
    "plt.xticks(rotation=90);"
   ]
  },
  {
   "cell_type": "markdown",
   "metadata": {},
   "source": [
    "- ##### Top Genres:"
   ]
  },
  {
   "cell_type": "code",
   "execution_count": 39,
   "metadata": {},
   "outputs": [
    {
     "data": {
      "text/plain": [
       "Drama        579\n",
       "Comedy       554\n",
       "Action       515\n",
       "Thriller     462\n",
       "Adventure    418\n",
       "dtype: int64"
      ]
     },
     "execution_count": 39,
     "metadata": {},
     "output_type": "execute_result"
    }
   ],
   "source": [
    "genre_count = extract_data('genres')\n",
    "#showing top 5 genres\n",
    "genre_count.head()"
   ]
  },
  {
   "cell_type": "code",
   "execution_count": 40,
   "metadata": {},
   "outputs": [
    {
     "data": {
      "image/png": "[encoded data removed]",
      "text/plain": [
       "<matplotlib.figure.Figure at 0x24a23d76208>"
      ]
     },
     "metadata": {},
     "output_type": "display_data"
    }
   ],
   "source": [
    "genre_graph= genre_count.head(10)\n",
    "sns.set_style(\"darkgrid\")\n",
    "sns.set(font_scale=1.5);\n",
    "f, axis = plt.subplots(figsize=(10, 5));\n",
    "\n",
    "axis = sns.barplot(x=genre_graph.index, y=genre_graph.values, palette=\"icefire\");\n",
    "\n",
    "axis.set( ylabel=\"Count\", xlabel=\"Genre\");\n",
    "plt.title('Genre count for most profitable movies');\n",
    "plt.xticks(rotation=90);"
   ]
  },
  {
   "cell_type": "code",
   "execution_count": 41,
   "metadata": {},
   "outputs": [
    {
     "name": "stdout",
     "output_type": "stream",
     "text": [
      "224 368371256\n"
     ]
    }
   ],
   "source": [
    "Budget_min = profit_adj['budget_adj'].min()\n",
    "Budget_max = profit_adj['budget_adj'].max()\n",
    "\n",
    "print(Budget_min, Budget_max)"
   ]
  },
  {
   "cell_type": "markdown",
   "metadata": {},
   "source": [
    "### Q6. In which month we had the most movies making profits?"
   ]
  },
  {
   "cell_type": "code",
   "execution_count": 42,
   "metadata": {},
   "outputs": [
    {
     "data": {
      "image/png": "[encoded data removed]",
      "text/plain": [
       "<matplotlib.figure.Figure at 0x24a23d70160>"
      ]
     },
     "metadata": {},
     "output_type": "display_data"
    }
   ],
   "source": [
    "index_release_date = profit_adj.set_index('release_date')\n",
    "\n",
    "#now we need to group all the data by month, since release date is in form of index, we extract month from it\n",
    "groupby_index = index_release_date.groupby(index_release_date.index.month)\n",
    "\n",
    "#this will give us how many movies are released in each month\n",
    "monthly_movie_count = groupby_index['profit_adj'].count()\n",
    "\n",
    "#converting table to a dataframe\n",
    "monthly_movie_count= pd.DataFrame(monthly_movie_count)\n",
    "\n",
    "#giving a list of months\n",
    "month_list = ['January', 'February', 'March', 'April', 'May', 'June', 'July', 'August', 'September', 'October', 'November', 'December']\n",
    "\n",
    "monthly_movie_count_bar = sns.barplot(x = monthly_movie_count.index, y = monthly_movie_count['profit_adj'], data = monthly_movie_count, palette='summer')\n",
    "\n",
    "#setting size of the graph\n",
    "monthly_movie_count_bar.figure.set_size_inches(15,5)\n",
    "\n",
    "#setting the title and customizing\n",
    "monthly_movie_count_bar.axes.set_title('Number of Movies released in each month', fontsize = 25, alpha = 0.6)\n",
    "\n",
    "#setting x-label\n",
    "monthly_movie_count_bar.set_xlabel(\"Months\", fontsize = 20)\n",
    "\n",
    "#setting y-label\n",
    "monthly_movie_count_bar.set_ylabel(\"Number of Movies\", fontsize = 20)\n",
    "\n",
    "#customizing axes values\n",
    "monthly_movie_count_bar.tick_params(labelsize = 15, labelcolor=\"black\")\n",
    "\n",
    "#rotating the x-axis values to make it readable\n",
    "monthly_movie_count_bar.set_xticklabels(month_list, rotation = 0, size = 14)\n",
    "\n",
    "#shows the plot\n",
    "plt.show()"
   ]
  },
  {
   "cell_type": "markdown",
   "metadata": {},
   "source": [
    "`Jan` was the month where `least no of movies` were realeased...\n",
    "\n",
    "`December` was the month where `max no of movies` were realeased..."
   ]
  },
  {
   "cell_type": "code",
   "execution_count": 43,
   "metadata": {},
   "outputs": [
    {
     "data": {
      "image/png": "[encoded data removed]",
      "text/plain": [
       "<matplotlib.figure.Figure at 0x24a23e6d940>"
      ]
     },
     "metadata": {},
     "output_type": "display_data"
    }
   ],
   "source": [
    "index_release_date = profit_adj.set_index(pd.DatetimeIndex(profit_adj['release_date']))\n",
    "\n",
    "#now we need to group all the data by month, since release date is in form of index, we extract month from it\n",
    "groupby_index = index_release_date.groupby([(index_release_date.index.month)])\n",
    "monthly_profit = groupby_index['profit_adj'].sum()\n",
    "\n",
    "#converting table to a dataframe\n",
    "monthly_profit = pd.DataFrame(monthly_profit)\n",
    "monthly_profit= monthly_profit.sort_values(by=['profit_adj'], ascending=[False])\n",
    "\n",
    "#giving seaborn bar plot to visualize the data\n",
    "#giving values to our graph\n",
    "monthly_profit_bar = sns.barplot(x = monthly_profit.index, y = monthly_profit['profit_adj'],data = monthly_profit, palette=\"summer\" )\n",
    "\n",
    "#setting size of the graph\n",
    "monthly_profit_bar.figure.set_size_inches(15,5)\n",
    "\n",
    "#setting the title and customizing\n",
    "monthly_profit_bar.axes.set_title('Profits made by movies at their released months', fontsize = 25, alpha = 0.6)\n",
    "\n",
    "#setting x-label\n",
    "monthly_profit_bar.set_xlabel(\"Months\", color=\"g\", fontsize = 20)\n",
    "#setting y-label\n",
    "monthly_profit_bar.set_ylabel(\"Profits\", color=\"y\", fontsize = 20)\n",
    "\n",
    "#customizing axes values\n",
    "monthly_profit_bar.tick_params(labelsize = 15, labelcolor=\"black\")\n",
    "\n",
    "#rotating the x-axis values to make it readable\n",
    "monthly_profit_bar.set_xticklabels(month_list, rotation = 0, size = 14)\n",
    "\n",
    "#shows the plot\n",
    "plt.show()"
   ]
  },
  {
   "cell_type": "markdown",
   "metadata": {},
   "source": [
    "The month of `Jan` here also showed to have been the `least profitable`...\n",
    "\n",
    "`June and December` were the month with `max profit`..."
   ]
  },
  {
   "cell_type": "markdown",
   "metadata": {},
   "source": [
    "## Q7. Genre wise, no. of movies released per year..."
   ]
  },
  {
   "cell_type": "markdown",
   "metadata": {},
   "source": [
    "<h4>What is the Number of Produced Movies by Genres?</h4>"
   ]
  },
  {
   "cell_type": "code",
   "execution_count": 44,
   "metadata": {},
   "outputs": [
    {
     "name": "stdout",
     "output_type": "stream",
     "text": [
      "Drama              1752\n",
      "Comedy             1357\n",
      "Thriller           1202\n",
      "Action             1084\n",
      "Adventure           749\n",
      "Romance             666\n",
      "Crime               650\n",
      "Science Fiction     518\n",
      "Horror              463\n",
      "Family              425\n",
      "Fantasy             396\n",
      "Mystery             344\n",
      "Animation           201\n",
      "Music               134\n",
      "History             129\n",
      "War                 119\n",
      "Western              52\n",
      "Documentary          31\n",
      "Foreign              12\n",
      "TV Movie              1\n",
      "dtype: int64\n"
     ]
    },
    {
     "data": {
      "image/png": "[encoded data removed]",
      "text/plain": [
       "<matplotlib.figure.Figure at 0x24a23d76978>"
      ]
     },
     "metadata": {},
     "output_type": "display_data"
    }
   ],
   "source": [
    "data = tmdb['genres'].str.cat(sep = '|')\n",
    "    \n",
    "#giving pandas series and storing the values separately\n",
    "data = pd.Series(data.split('|'))\n",
    "    \n",
    "#this will us value in descending order\n",
    "count = data.value_counts(ascending = False)\n",
    "print(count)\n",
    "graph_plot= count\n",
    "sns.set_style(\"darkgrid\")\n",
    "sns.set(font_scale=1.5);\n",
    "f, graph_plot = plt.subplots(figsize=(12, 8));\n",
    "graph_plot = sns.barplot(x=count.values, y=count.index, palette=\"Greens_r\");\n",
    "axis.set( ylabel=\"Count\", xlabel=\"Genre\");\n",
    "plt.title('Movies Counts by Genre');"
   ]
  },
  {
   "cell_type": "markdown",
   "metadata": {},
   "source": [
    "#### - Calculating in which year max no of movies of a particular genre were released: "
   ]
  },
  {
   "cell_type": "code",
   "execution_count": 45,
   "metadata": {},
   "outputs": [
    {
     "data": {
      "text/plain": [
       "Text(0.5,52,'Release Year')"
      ]
     },
     "execution_count": 45,
     "metadata": {},
     "output_type": "execute_result"
    },
    {
     "data": {
      "image/png": "[encoded data removed]",
      "text/plain": [
       "<matplotlib.figure.Figure at 0x24a24eaae80>"
      ]
     },
     "metadata": {},
     "output_type": "display_data"
    }
   ],
   "source": [
    "frame = tmdb['genres'].str.split('|').apply(pd.Series, 1).stack()\n",
    "frame.index = frame.index.droplevel(-1)\n",
    "frame.name = 'genres'\n",
    "\n",
    "new_frame = tmdb.copy() # create a copy of the df_clean dataset \n",
    "del new_frame['genres']\n",
    "\n",
    "main_frame = new_frame.join(frame)\n",
    "\n",
    "chart_df = main_frame.groupby(['genres', 'release_year']).count()['director'].reset_index(name=\"count\")\n",
    "#chart_df = df.groupby('genres').count()['director'].reset_index(name=\"count\")\n",
    "\n",
    "\n",
    "\n",
    "\n",
    "genres_count = chart_df.loc[chart_df.groupby(['genres'])['count'].idxmax()]\n",
    "\n",
    "sns.set(style=\"darkgrid\")\n",
    "\n",
    "genres = genres_count.pivot(\"genres\", \"release_year\", \"count\")\n",
    "\n",
    "# Draw a heatmap with the numeric values in each cell\n",
    "f, ax = plt.subplots(figsize=(8, 8))\n",
    "g = sns.heatmap(genres, annot=True,  linewidths=0.5, ax=ax)\n",
    "g.set_title(\"Number of Movies by Genres by Year\", fontsize=22, fontweight=\"bold\")\n",
    "g.set_ylabel(\"Genres\", fontsize=17, fontweight=\"bold\")\n",
    "g.set_xlabel(\"Release Year\", fontsize=17, fontweight=\"bold\")"
   ]
  },
  {
   "cell_type": "markdown",
   "metadata": {},
   "source": [
    "##### - To see the depiction more clearly a table is shown below:\n",
    "\n",
    "The table clearly depicts which genre kind movies were released max no of times in which year...."
   ]
  },
  {
   "cell_type": "code",
   "execution_count": 46,
   "metadata": {},
   "outputs": [
    {
     "data": {
      "text/html": [
       "<div>\n",
       "<style scoped>\n",
       "    .dataframe tbody tr th:only-of-type {\n",
       "        vertical-align: middle;\n",
       "    }\n",
       "\n",
       "    .dataframe tbody tr th {\n",
       "        vertical-align: top;\n",
       "    }\n",
       "\n",
       "    .dataframe thead th {\n",
       "        text-align: right;\n",
       "    }\n",
       "</style>\n",
       "<table border=\"1\" class=\"dataframe\">\n",
       "  <thead>\n",
       "    <tr style=\"text-align: right;\">\n",
       "      <th></th>\n",
       "      <th>genres</th>\n",
       "      <th>release_year</th>\n",
       "      <th>count</th>\n",
       "    </tr>\n",
       "  </thead>\n",
       "  <tbody>\n",
       "    <tr>\n",
       "      <th>50</th>\n",
       "      <td>Action</td>\n",
       "      <td>2011</td>\n",
       "      <td>58</td>\n",
       "    </tr>\n",
       "    <tr>\n",
       "      <th>103</th>\n",
       "      <td>Adventure</td>\n",
       "      <td>2008</td>\n",
       "      <td>40</td>\n",
       "    </tr>\n",
       "    <tr>\n",
       "      <th>145</th>\n",
       "      <td>Animation</td>\n",
       "      <td>2011</td>\n",
       "      <td>14</td>\n",
       "    </tr>\n",
       "    <tr>\n",
       "      <th>196</th>\n",
       "      <td>Comedy</td>\n",
       "      <td>2011</td>\n",
       "      <td>72</td>\n",
       "    </tr>\n",
       "    <tr>\n",
       "      <th>244</th>\n",
       "      <td>Crime</td>\n",
       "      <td>2007</td>\n",
       "      <td>36</td>\n",
       "    </tr>\n",
       "    <tr>\n",
       "      <th>259</th>\n",
       "      <td>Documentary</td>\n",
       "      <td>2004</td>\n",
       "      <td>4</td>\n",
       "    </tr>\n",
       "    <tr>\n",
       "      <th>314</th>\n",
       "      <td>Drama</td>\n",
       "      <td>2006</td>\n",
       "      <td>89</td>\n",
       "    </tr>\n",
       "    <tr>\n",
       "      <th>360</th>\n",
       "      <td>Family</td>\n",
       "      <td>2005</td>\n",
       "      <td>27</td>\n",
       "    </tr>\n",
       "    <tr>\n",
       "      <th>407</th>\n",
       "      <td>Fantasy</td>\n",
       "      <td>2010</td>\n",
       "      <td>21</td>\n",
       "    </tr>\n",
       "    <tr>\n",
       "      <th>421</th>\n",
       "      <td>Foreign</td>\n",
       "      <td>2010</td>\n",
       "      <td>3</td>\n",
       "    </tr>\n",
       "    <tr>\n",
       "      <th>458</th>\n",
       "      <td>History</td>\n",
       "      <td>2006</td>\n",
       "      <td>8</td>\n",
       "    </tr>\n",
       "    <tr>\n",
       "      <th>506</th>\n",
       "      <td>Horror</td>\n",
       "      <td>2007</td>\n",
       "      <td>28</td>\n",
       "    </tr>\n",
       "    <tr>\n",
       "      <th>547</th>\n",
       "      <td>Music</td>\n",
       "      <td>2007</td>\n",
       "      <td>9</td>\n",
       "    </tr>\n",
       "    <tr>\n",
       "      <th>598</th>\n",
       "      <td>Mystery</td>\n",
       "      <td>2009</td>\n",
       "      <td>21</td>\n",
       "    </tr>\n",
       "    <tr>\n",
       "      <th>650</th>\n",
       "      <td>Romance</td>\n",
       "      <td>2009</td>\n",
       "      <td>36</td>\n",
       "    </tr>\n",
       "    <tr>\n",
       "      <th>698</th>\n",
       "      <td>Science Fiction</td>\n",
       "      <td>2009</td>\n",
       "      <td>31</td>\n",
       "    </tr>\n",
       "    <tr>\n",
       "      <th>705</th>\n",
       "      <td>TV Movie</td>\n",
       "      <td>1996</td>\n",
       "      <td>1</td>\n",
       "    </tr>\n",
       "    <tr>\n",
       "      <th>756</th>\n",
       "      <td>Thriller</td>\n",
       "      <td>2011</td>\n",
       "      <td>63</td>\n",
       "    </tr>\n",
       "    <tr>\n",
       "      <th>798</th>\n",
       "      <td>War</td>\n",
       "      <td>2008</td>\n",
       "      <td>9</td>\n",
       "    </tr>\n",
       "    <tr>\n",
       "      <th>830</th>\n",
       "      <td>Western</td>\n",
       "      <td>2004</td>\n",
       "      <td>3</td>\n",
       "    </tr>\n",
       "  </tbody>\n",
       "</table>\n",
       "</div>"
      ],
      "text/plain": [
       "              genres  release_year  count\n",
       "50            Action          2011     58\n",
       "103        Adventure          2008     40\n",
       "145        Animation          2011     14\n",
       "196           Comedy          2011     72\n",
       "244            Crime          2007     36\n",
       "259      Documentary          2004      4\n",
       "314            Drama          2006     89\n",
       "360           Family          2005     27\n",
       "407          Fantasy          2010     21\n",
       "421          Foreign          2010      3\n",
       "458          History          2006      8\n",
       "506           Horror          2007     28\n",
       "547            Music          2007      9\n",
       "598          Mystery          2009     21\n",
       "650          Romance          2009     36\n",
       "698  Science Fiction          2009     31\n",
       "705         TV Movie          1996      1\n",
       "756         Thriller          2011     63\n",
       "798              War          2008      9\n",
       "830          Western          2004      3"
      ]
     },
     "execution_count": 46,
     "metadata": {},
     "output_type": "execute_result"
    }
   ],
   "source": [
    "chart_df.loc[chart_df.groupby(['genres'])['count'].idxmax()]\n"
   ]
  },
  {
   "cell_type": "markdown",
   "metadata": {},
   "source": [
    "### Q8. What is relationship between various parameters.."
   ]
  },
  {
   "cell_type": "code",
   "execution_count": 47,
   "metadata": {},
   "outputs": [
    {
     "data": {
      "text/html": [
       "<div>\n",
       "<style scoped>\n",
       "    .dataframe tbody tr th:only-of-type {\n",
       "        vertical-align: middle;\n",
       "    }\n",
       "\n",
       "    .dataframe tbody tr th {\n",
       "        vertical-align: top;\n",
       "    }\n",
       "\n",
       "    .dataframe thead th {\n",
       "        text-align: right;\n",
       "    }\n",
       "</style>\n",
       "<table border=\"1\" class=\"dataframe\">\n",
       "  <thead>\n",
       "    <tr style=\"text-align: right;\">\n",
       "      <th></th>\n",
       "      <th>id</th>\n",
       "      <th>popularity</th>\n",
       "      <th>profit_adj</th>\n",
       "      <th>runtime</th>\n",
       "      <th>vote_count</th>\n",
       "      <th>vote_average</th>\n",
       "      <th>release_year</th>\n",
       "      <th>budget_adj</th>\n",
       "      <th>revenue_adj</th>\n",
       "    </tr>\n",
       "  </thead>\n",
       "  <tbody>\n",
       "    <tr>\n",
       "      <th>id</th>\n",
       "      <td>1.000000</td>\n",
       "      <td>0.189046</td>\n",
       "      <td>-0.069728</td>\n",
       "      <td>-0.035187</td>\n",
       "      <td>0.111559</td>\n",
       "      <td>-0.000708</td>\n",
       "      <td>0.489974</td>\n",
       "      <td>-0.124086</td>\n",
       "      <td>-0.088344</td>\n",
       "    </tr>\n",
       "    <tr>\n",
       "      <th>popularity</th>\n",
       "      <td>0.189046</td>\n",
       "      <td>1.000000</td>\n",
       "      <td>0.516665</td>\n",
       "      <td>0.215444</td>\n",
       "      <td>0.779975</td>\n",
       "      <td>0.317692</td>\n",
       "      <td>0.173698</td>\n",
       "      <td>0.398828</td>\n",
       "      <td>0.546690</td>\n",
       "    </tr>\n",
       "    <tr>\n",
       "      <th>profit_adj</th>\n",
       "      <td>-0.069728</td>\n",
       "      <td>0.516665</td>\n",
       "      <td>1.000000</td>\n",
       "      <td>0.235513</td>\n",
       "      <td>0.613912</td>\n",
       "      <td>0.288577</td>\n",
       "      <td>-0.132090</td>\n",
       "      <td>0.404059</td>\n",
       "      <td>0.981859</td>\n",
       "    </tr>\n",
       "    <tr>\n",
       "      <th>runtime</th>\n",
       "      <td>-0.035187</td>\n",
       "      <td>0.215444</td>\n",
       "      <td>0.235513</td>\n",
       "      <td>1.000000</td>\n",
       "      <td>0.274143</td>\n",
       "      <td>0.352418</td>\n",
       "      <td>-0.112800</td>\n",
       "      <td>0.334626</td>\n",
       "      <td>0.280878</td>\n",
       "    </tr>\n",
       "    <tr>\n",
       "      <th>vote_count</th>\n",
       "      <td>0.111559</td>\n",
       "      <td>0.779975</td>\n",
       "      <td>0.613912</td>\n",
       "      <td>0.274143</td>\n",
       "      <td>1.000000</td>\n",
       "      <td>0.387201</td>\n",
       "      <td>0.207580</td>\n",
       "      <td>0.497638</td>\n",
       "      <td>0.654509</td>\n",
       "    </tr>\n",
       "    <tr>\n",
       "      <th>vote_average</th>\n",
       "      <td>-0.000708</td>\n",
       "      <td>0.317692</td>\n",
       "      <td>0.288577</td>\n",
       "      <td>0.352418</td>\n",
       "      <td>0.387201</td>\n",
       "      <td>1.000000</td>\n",
       "      <td>-0.133066</td>\n",
       "      <td>0.036093</td>\n",
       "      <td>0.266654</td>\n",
       "    </tr>\n",
       "    <tr>\n",
       "      <th>release_year</th>\n",
       "      <td>0.489974</td>\n",
       "      <td>0.173698</td>\n",
       "      <td>-0.132090</td>\n",
       "      <td>-0.112800</td>\n",
       "      <td>0.207580</td>\n",
       "      <td>-0.133066</td>\n",
       "      <td>1.000000</td>\n",
       "      <td>0.075490</td>\n",
       "      <td>-0.102983</td>\n",
       "    </tr>\n",
       "    <tr>\n",
       "      <th>budget_adj</th>\n",
       "      <td>-0.124086</td>\n",
       "      <td>0.398828</td>\n",
       "      <td>0.404059</td>\n",
       "      <td>0.334626</td>\n",
       "      <td>0.497638</td>\n",
       "      <td>0.036093</td>\n",
       "      <td>0.075490</td>\n",
       "      <td>1.000000</td>\n",
       "      <td>0.570172</td>\n",
       "    </tr>\n",
       "    <tr>\n",
       "      <th>revenue_adj</th>\n",
       "      <td>-0.088344</td>\n",
       "      <td>0.546690</td>\n",
       "      <td>0.981859</td>\n",
       "      <td>0.280878</td>\n",
       "      <td>0.654509</td>\n",
       "      <td>0.266654</td>\n",
       "      <td>-0.102983</td>\n",
       "      <td>0.570172</td>\n",
       "      <td>1.000000</td>\n",
       "    </tr>\n",
       "  </tbody>\n",
       "</table>\n",
       "</div>"
      ],
      "text/plain": [
       "                    id  popularity  profit_adj   runtime  vote_count  \\\n",
       "id            1.000000    0.189046   -0.069728 -0.035187    0.111559   \n",
       "popularity    0.189046    1.000000    0.516665  0.215444    0.779975   \n",
       "profit_adj   -0.069728    0.516665    1.000000  0.235513    0.613912   \n",
       "runtime      -0.035187    0.215444    0.235513  1.000000    0.274143   \n",
       "vote_count    0.111559    0.779975    0.613912  0.274143    1.000000   \n",
       "vote_average -0.000708    0.317692    0.288577  0.352418    0.387201   \n",
       "release_year  0.489974    0.173698   -0.132090 -0.112800    0.207580   \n",
       "budget_adj   -0.124086    0.398828    0.404059  0.334626    0.497638   \n",
       "revenue_adj  -0.088344    0.546690    0.981859  0.280878    0.654509   \n",
       "\n",
       "              vote_average  release_year  budget_adj  revenue_adj  \n",
       "id               -0.000708      0.489974   -0.124086    -0.088344  \n",
       "popularity        0.317692      0.173698    0.398828     0.546690  \n",
       "profit_adj        0.288577     -0.132090    0.404059     0.981859  \n",
       "runtime           0.352418     -0.112800    0.334626     0.280878  \n",
       "vote_count        0.387201      0.207580    0.497638     0.654509  \n",
       "vote_average      1.000000     -0.133066    0.036093     0.266654  \n",
       "release_year     -0.133066      1.000000    0.075490    -0.102983  \n",
       "budget_adj        0.036093      0.075490    1.000000     0.570172  \n",
       "revenue_adj       0.266654     -0.102983    0.570172     1.000000  "
      ]
     },
     "execution_count": 47,
     "metadata": {},
     "output_type": "execute_result"
    }
   ],
   "source": [
    "#using correlation to determine factors influencing revenues\n",
    "tmdb.corr(method='pearson')"
   ]
  },
  {
   "cell_type": "markdown",
   "metadata": {},
   "source": [
    "\n",
    "- Popularity has `STRONG` correlation with `vote_count` and `GOOD` correlation with `profit and revenue_adj`.\n",
    "- Profit has `STRONG` correlation with `revenue_adj and vote_count` and `GOOD` correlation with `popularity and budget_adj`.\n",
    "- Runtime, budget_adj and vote_average does not has good correlation with any parameter.\n",
    "- Revenue_adj has `Very Strong` correlation with `profit`"
   ]
  },
  {
   "cell_type": "markdown",
   "metadata": {},
   "source": [
    "<h3><u>Conclusion</u></h3>\n",
    "\n",
    "As I have answered the questions that i thought would be interesting to dig into, i want to wrap up all my findings in this way ....\n",
    "\n",
    "<h5>Q. If I wanted to show one of the best and most profitable movie, who would I hire as director and cast, which genre would I choose and also at what month would I release the movie in?</h5>\n",
    "\n",
    "Ans. I would..\n",
    "\n",
    " - <B>Choose any director from this</B> *- Steven Spielberg, Clint Eastwood, Tim Burton, Robert Zemeckis, Tony Scott *\n",
    " - <B>Choose any cast from this</B> *- Tom Cruise, Tom Hanks, Brad Pitt, Robert De Niro, Sylvester Stallone *\n",
    " - <B>Choose these genre</B> - Drama, Comedy, Action, Thriller, Adventure\n",
    " - <B>Choose these release months</B> - May, June, July, November, December.\n",
    " - <B>Choose budget range between `$224` to  `$368371256`\n",
    "   \n",
    "##### Other Analysis:\n",
    "\n",
    "1. Out of given dataset only `3848` movies contained valid data.\n",
    "\n",
    "2. `Jurassic World` is the movie with max popularity of almost 33.\n",
    "\n",
    "3. `Avatar movie` has made most revenue.. Making a revenue of more than $2.8B\n",
    "\n",
    "4. `Star Wars` film has the highest profit in all, making over $2.7B\n",
    "\n",
    "5. `Average runtime` of all movies is approx 109 min.\n",
    "\n",
    "6.  The top rated movies are `The Shawshank Redemption` and `Stop Making Sense` with a rating of 8.4.\n",
    "\n",
    "7. Movie_rating:\n",
    " - Low              1100\n",
    " - Below Average     938\n",
    " - Above Average     907\n",
    " - High              902\n",
    "\n",
    "8. No. of movies with profit greater than $50 million dollars : 1542\n",
    "\n",
    "9. `Least no` of profitable movies: `January`.. The month with `max no` of profitable movies `December`...\n",
    "\n",
    "10. The `least profitable ` month: `Jan`.. \n",
    "`June and December` were the months with `max profit`...\n",
    "\n",
    "11. No of movies released genre wise:\n",
    " - Drama              1752\n",
    " - Comedy             1357\n",
    " - Thriller           1202\n",
    " - Action             1084\n",
    " - Adventure           749\n",
    "\n",
    "12. Correlations: \n",
    " - Popularity has `STRONG` correlation with `vote_count` and `GOOD` correlation with `profit and revenue_adj`.\n",
    " - Profit has `STRONG` correlation with `revenue_adj and vote_count` and `GOOD` correlation with `popularity and budget_adj`.\n",
    " - Runtime, budget_adj and vote_average does not has good correlation with any parameter.\n",
    " - Revenue_adj has `Very Strong` correlation with `profit`.\n",
    "\n",
    "#### Limitations of the dataset and analysis:\n",
    "\n",
    "1. There is no normalization or exchanges rate or currency conversion is considered during this analysis and our analysis is limited to the numerical values of revenue, budget etc.\n",
    "\n",
    "2. We have not considered type of vote positive or negative or any other value.\n",
    "\n",
    "3. Dropping missing or Null values from variables of our interest might skew our analysis and could show unintentional bias towards relationship being analyzed.\n",
    "\n",
    "4. Due to wrangling lot of movie data needed to be removed, so our analysis is limited to partial no. of movies. ( Only those movies whose data was valid and without any null values...)\n",
    "\n",
    "5. There were lot of movies where the budget_adj or revenue_adj have a value of '0' which means that the values of those variables had not been recorded. Calculating the profits of these movies would lead to inappropriate results. So we needed to delete those rows.\n",
    "\n",
    "6. Also this dataset had one duplicate row. We had to remove that duplicate row for setting one column(here id) as the index of whole dataset.\n",
    "\n",
    "7. Unnecessory columns needed to be removed such as imdb_id, budget, revenue, homepage, keywords, overview, production_companies, tagline. This was done because either these contained large no. of null values or didn't seem promising enough to be fit for some analysis.\n"
   ]
  },
  {
   "cell_type": "code",
   "execution_count": null,
   "metadata": {},
   "outputs": [],
   "source": []
  }
 ],
 "metadata": {
  "kernelspec": {
   "display_name": "Python 3",
   "language": "python",
   "name": "python3"
  },
  "language_info": {
   "codemirror_mode": {
    "name": "ipython",
    "version": 3
   },
   "file_extension": ".py",
   "mimetype": "text/x-python",
   "name": "python",
   "nbconvert_exporter": "python",
   "pygments_lexer": "ipython3",
   "version": "3.6.4"
  }
 },
 "nbformat": 4,
 "nbformat_minor": 2
}
